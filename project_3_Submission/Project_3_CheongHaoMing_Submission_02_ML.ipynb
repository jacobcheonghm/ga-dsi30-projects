{
 "cells": [
  {
   "cell_type": "markdown",
   "id": "cc51f163-348c-404b-ad87-6d9e35524d9e",
   "metadata": {},
   "source": [
    "## Data Cleaning and EDA\n"
   ]
  },
  {
   "cell_type": "code",
   "execution_count": 120,
   "id": "e199b406-7db6-4b25-a195-e1146e6e648e",
   "metadata": {},
   "outputs": [],
   "source": [
    "# Importing the necessary libraries\n",
    "\n",
    "import pandas as pd\n",
    "import numpy as np\n",
    "import matplotlib.pyplot as plt\n",
    "\n",
    "import regex as re\n",
    "from bs4 import BeautifulSoup  \n",
    "from nltk.corpus import stopwords\n",
    "from nltk.stem import WordNetLemmatizer\n",
    "\n",
    "from sklearn.feature_extraction.text import CountVectorizer, TfidfVectorizer\n",
    "from sklearn.neighbors import KNeighborsClassifier\n",
    "from sklearn.model_selection import train_test_split, GridSearchCV, cross_val_score\n",
    "from sklearn.pipeline import Pipeline\n",
    "from sklearn.naive_bayes import MultinomialNB\n",
    "from sklearn.linear_model import LogisticRegression\n",
    "from sklearn.metrics import confusion_matrix, ConfusionMatrixDisplay\n",
    "from sklearn.tree import DecisionTreeClassifier\n",
    "from sklearn.ensemble import BaggingClassifier, RandomForestClassifier, ExtraTreesClassifier, GradientBoostingClassifier, AdaBoostClassifier, VotingClassifier"
   ]
  },
  {
   "cell_type": "code",
   "execution_count": 121,
   "id": "0363f7bf-1538-4c84-b40a-6a57b49f3192",
   "metadata": {},
   "outputs": [],
   "source": [
    "run = pd.read_csv(\"./running.csv\")"
   ]
  },
  {
   "cell_type": "code",
   "execution_count": 122,
   "id": "f9f887e5-c468-40da-b0bc-46ac67ba1161",
   "metadata": {},
   "outputs": [],
   "source": [
    "mar = pd.read_csv(\"./firstm.csv\")"
   ]
  },
  {
   "cell_type": "code",
   "execution_count": 123,
   "id": "d4d3ac28-be26-4003-87d5-b769d968b906",
   "metadata": {
    "tags": []
   },
   "outputs": [
    {
     "data": {
      "text/html": [
       "<div>\n",
       "<style scoped>\n",
       "    .dataframe tbody tr th:only-of-type {\n",
       "        vertical-align: middle;\n",
       "    }\n",
       "\n",
       "    .dataframe tbody tr th {\n",
       "        vertical-align: top;\n",
       "    }\n",
       "\n",
       "    .dataframe thead th {\n",
       "        text-align: right;\n",
       "    }\n",
       "</style>\n",
       "<table border=\"1\" class=\"dataframe\">\n",
       "  <thead>\n",
       "    <tr style=\"text-align: right;\">\n",
       "      <th></th>\n",
       "      <th>subreddit</th>\n",
       "      <th>selftext</th>\n",
       "      <th>title</th>\n",
       "    </tr>\n",
       "  </thead>\n",
       "  <tbody>\n",
       "    <tr>\n",
       "      <th>0</th>\n",
       "      <td>running</td>\n",
       "      <td>Hi\\n\\nI bought a second hand treadmill (SS255 ...</td>\n",
       "      <td>Treadmill question - Orbit Starstrider 255</td>\n",
       "    </tr>\n",
       "    <tr>\n",
       "      <th>1</th>\n",
       "      <td>running</td>\n",
       "      <td>Hi, im couch potato and I have been working ou...</td>\n",
       "      <td>If I run everyday will I die faster?</td>\n",
       "    </tr>\n",
       "    <tr>\n",
       "      <th>2</th>\n",
       "      <td>running</td>\n",
       "      <td>[removed]</td>\n",
       "      <td>Couch to marathon in 3 months</td>\n",
       "    </tr>\n",
       "    <tr>\n",
       "      <th>3</th>\n",
       "      <td>running</td>\n",
       "      <td>I just started running again after being sick ...</td>\n",
       "      <td>Encouragement for future?</td>\n",
       "    </tr>\n",
       "    <tr>\n",
       "      <th>4</th>\n",
       "      <td>running</td>\n",
       "      <td>Hey fellow runners! :). \\n\\nI started running ...</td>\n",
       "      <td>Knee stiffness from running</td>\n",
       "    </tr>\n",
       "  </tbody>\n",
       "</table>\n",
       "</div>"
      ],
      "text/plain": [
       "  subreddit                                           selftext  \\\n",
       "0   running  Hi\\n\\nI bought a second hand treadmill (SS255 ...   \n",
       "1   running  Hi, im couch potato and I have been working ou...   \n",
       "2   running                                          [removed]   \n",
       "3   running  I just started running again after being sick ...   \n",
       "4   running  Hey fellow runners! :). \\n\\nI started running ...   \n",
       "\n",
       "                                        title  \n",
       "0  Treadmill question - Orbit Starstrider 255  \n",
       "1        If I run everyday will I die faster?  \n",
       "2               Couch to marathon in 3 months  \n",
       "3                   Encouragement for future?  \n",
       "4                 Knee stiffness from running  "
      ]
     },
     "execution_count": 123,
     "metadata": {},
     "output_type": "execute_result"
    }
   ],
   "source": [
    "run.head()"
   ]
  },
  {
   "cell_type": "code",
   "execution_count": 124,
   "id": "949a3e3f-4cd9-4b69-9b61-25752809f8b1",
   "metadata": {
    "tags": []
   },
   "outputs": [
    {
     "data": {
      "text/html": [
       "<div>\n",
       "<style scoped>\n",
       "    .dataframe tbody tr th:only-of-type {\n",
       "        vertical-align: middle;\n",
       "    }\n",
       "\n",
       "    .dataframe tbody tr th {\n",
       "        vertical-align: top;\n",
       "    }\n",
       "\n",
       "    .dataframe thead th {\n",
       "        text-align: right;\n",
       "    }\n",
       "</style>\n",
       "<table border=\"1\" class=\"dataframe\">\n",
       "  <thead>\n",
       "    <tr style=\"text-align: right;\">\n",
       "      <th></th>\n",
       "      <th>subreddit</th>\n",
       "      <th>selftext</th>\n",
       "      <th>title</th>\n",
       "    </tr>\n",
       "  </thead>\n",
       "  <tbody>\n",
       "    <tr>\n",
       "      <th>0</th>\n",
       "      <td>firstmarathon</td>\n",
       "      <td>[removed]</td>\n",
       "      <td>First Marathon</td>\n",
       "    </tr>\n",
       "    <tr>\n",
       "      <th>1</th>\n",
       "      <td>firstmarathon</td>\n",
       "      <td>hey there! training for my first marathon (Ric...</td>\n",
       "      <td>strength work (preferably body weight or dumbb...</td>\n",
       "    </tr>\n",
       "    <tr>\n",
       "      <th>2</th>\n",
       "      <td>firstmarathon</td>\n",
       "      <td>At this point I have done almost everything th...</td>\n",
       "      <td>Looking for some Internet Karma + Confidence: ...</td>\n",
       "    </tr>\n",
       "    <tr>\n",
       "      <th>3</th>\n",
       "      <td>firstmarathon</td>\n",
       "      <td>Hey ya’ll\\n\\nSo about 14 weeks out from this o...</td>\n",
       "      <td>Plan for Toronto Waterfront Marathon</td>\n",
       "    </tr>\n",
       "    <tr>\n",
       "      <th>4</th>\n",
       "      <td>firstmarathon</td>\n",
       "      <td>I can't find anyone online that experiences ch...</td>\n",
       "      <td>Chafing in a rather uncomfortable area... any ...</td>\n",
       "    </tr>\n",
       "  </tbody>\n",
       "</table>\n",
       "</div>"
      ],
      "text/plain": [
       "       subreddit                                           selftext  \\\n",
       "0  firstmarathon                                          [removed]   \n",
       "1  firstmarathon  hey there! training for my first marathon (Ric...   \n",
       "2  firstmarathon  At this point I have done almost everything th...   \n",
       "3  firstmarathon  Hey ya’ll\\n\\nSo about 14 weeks out from this o...   \n",
       "4  firstmarathon  I can't find anyone online that experiences ch...   \n",
       "\n",
       "                                               title  \n",
       "0                                     First Marathon  \n",
       "1  strength work (preferably body weight or dumbb...  \n",
       "2  Looking for some Internet Karma + Confidence: ...  \n",
       "3               Plan for Toronto Waterfront Marathon  \n",
       "4  Chafing in a rather uncomfortable area... any ...  "
      ]
     },
     "execution_count": 124,
     "metadata": {},
     "output_type": "execute_result"
    }
   ],
   "source": [
    "mar.head()"
   ]
  },
  {
   "cell_type": "markdown",
   "id": "deafd500-5b1a-4828-a5d9-9aa43d78aadc",
   "metadata": {},
   "source": [
    "### Data Cleaning"
   ]
  },
  {
   "cell_type": "code",
   "execution_count": 125,
   "id": "e2eddb0e-6d30-4117-a9f0-30ac5fc8fc0b",
   "metadata": {},
   "outputs": [],
   "source": [
    "#defining function for processing DataFrame\n",
    "def df_prep(df):\n",
    "    \n",
    "   \n",
    "    df[\"selftext\"].fillna(\"\",inplace = True)  # fill null in \"selftext\" with empty string\n",
    "    df[\"selftext\"].replace(\"[removed]\",\" \", inplace = True) # replaced [removed] in \"selftext\" with empty string\n",
    "    df[\"selftext\"].replace(\"[deleted]\",\" \", inplace = True) # replaced [deleted] in \"selftext\" with empty string\n",
    "    df[\"atext\"] = df[\"title\"] + \" \"  + df[\"selftext\"] # creating new \"atext\" column by concating \"title\" and \"selftext\"\n",
    "    df.drop(columns = [\"selftext\",\"title\"], axis =1, inplace =True) # drop the now redundant \"selftext\" and \"title\"\n",
    "    df.drop_duplicates(subset = ['atext'], keep = 'first',inplace =True) #check and drop duplicates\n",
    "    print(df.shape) #check shape to make sure we have enough data points\n",
    "    print(df.isnull().sum()) #check if we miss out any null values\n",
    "    \n",
    "    return df\n",
    "    "
   ]
  },
  {
   "cell_type": "code",
   "execution_count": 126,
   "id": "a28b3509-fd44-478e-bd41-569b0422e67c",
   "metadata": {
    "tags": []
   },
   "outputs": [
    {
     "name": "stdout",
     "output_type": "stream",
     "text": [
      "(1770, 2)\n",
      "subreddit    0\n",
      "atext        0\n",
      "dtype: int64\n"
     ]
    },
    {
     "data": {
      "text/html": [
       "<div>\n",
       "<style scoped>\n",
       "    .dataframe tbody tr th:only-of-type {\n",
       "        vertical-align: middle;\n",
       "    }\n",
       "\n",
       "    .dataframe tbody tr th {\n",
       "        vertical-align: top;\n",
       "    }\n",
       "\n",
       "    .dataframe thead th {\n",
       "        text-align: right;\n",
       "    }\n",
       "</style>\n",
       "<table border=\"1\" class=\"dataframe\">\n",
       "  <thead>\n",
       "    <tr style=\"text-align: right;\">\n",
       "      <th></th>\n",
       "      <th>subreddit</th>\n",
       "      <th>atext</th>\n",
       "    </tr>\n",
       "  </thead>\n",
       "  <tbody>\n",
       "    <tr>\n",
       "      <th>0</th>\n",
       "      <td>running</td>\n",
       "      <td>Treadmill question - Orbit Starstrider 255 Hi\\...</td>\n",
       "    </tr>\n",
       "    <tr>\n",
       "      <th>1</th>\n",
       "      <td>running</td>\n",
       "      <td>If I run everyday will I die faster? Hi, im co...</td>\n",
       "    </tr>\n",
       "    <tr>\n",
       "      <th>2</th>\n",
       "      <td>running</td>\n",
       "      <td>Couch to marathon in 3 months</td>\n",
       "    </tr>\n",
       "    <tr>\n",
       "      <th>3</th>\n",
       "      <td>running</td>\n",
       "      <td>Encouragement for future? I just started runni...</td>\n",
       "    </tr>\n",
       "    <tr>\n",
       "      <th>4</th>\n",
       "      <td>running</td>\n",
       "      <td>Knee stiffness from running Hey fellow runners...</td>\n",
       "    </tr>\n",
       "    <tr>\n",
       "      <th>...</th>\n",
       "      <td>...</td>\n",
       "      <td>...</td>\n",
       "    </tr>\n",
       "    <tr>\n",
       "      <th>1795</th>\n",
       "      <td>running</td>\n",
       "      <td>Half marathon training while working long hour...</td>\n",
       "    </tr>\n",
       "    <tr>\n",
       "      <th>1796</th>\n",
       "      <td>running</td>\n",
       "      <td>Marathon Novice Training - Seeking advice on e...</td>\n",
       "    </tr>\n",
       "    <tr>\n",
       "      <th>1797</th>\n",
       "      <td>running</td>\n",
       "      <td>Obliterated my Achilles Tendon in 2020 and hav...</td>\n",
       "    </tr>\n",
       "    <tr>\n",
       "      <th>1798</th>\n",
       "      <td>running</td>\n",
       "      <td>Arch pain Hello all!\\n\\nI’m 25F and have been ...</td>\n",
       "    </tr>\n",
       "    <tr>\n",
       "      <th>1799</th>\n",
       "      <td>running</td>\n",
       "      <td>What to do after marathon? I just ran my first...</td>\n",
       "    </tr>\n",
       "  </tbody>\n",
       "</table>\n",
       "<p>1770 rows × 2 columns</p>\n",
       "</div>"
      ],
      "text/plain": [
       "     subreddit                                              atext\n",
       "0      running  Treadmill question - Orbit Starstrider 255 Hi\\...\n",
       "1      running  If I run everyday will I die faster? Hi, im co...\n",
       "2      running                    Couch to marathon in 3 months  \n",
       "3      running  Encouragement for future? I just started runni...\n",
       "4      running  Knee stiffness from running Hey fellow runners...\n",
       "...        ...                                                ...\n",
       "1795   running  Half marathon training while working long hour...\n",
       "1796   running  Marathon Novice Training - Seeking advice on e...\n",
       "1797   running  Obliterated my Achilles Tendon in 2020 and hav...\n",
       "1798   running  Arch pain Hello all!\\n\\nI’m 25F and have been ...\n",
       "1799   running  What to do after marathon? I just ran my first...\n",
       "\n",
       "[1770 rows x 2 columns]"
      ]
     },
     "execution_count": 126,
     "metadata": {},
     "output_type": "execute_result"
    }
   ],
   "source": [
    "# Processing the running dataset\n",
    "\n",
    "df_prep(run)"
   ]
  },
  {
   "cell_type": "code",
   "execution_count": 127,
   "id": "796c6af6-c3d6-474d-84e1-5b27e8a33d2a",
   "metadata": {
    "tags": []
   },
   "outputs": [
    {
     "name": "stdout",
     "output_type": "stream",
     "text": [
      "(1794, 2)\n",
      "subreddit    0\n",
      "atext        0\n",
      "dtype: int64\n"
     ]
    },
    {
     "data": {
      "text/html": [
       "<div>\n",
       "<style scoped>\n",
       "    .dataframe tbody tr th:only-of-type {\n",
       "        vertical-align: middle;\n",
       "    }\n",
       "\n",
       "    .dataframe tbody tr th {\n",
       "        vertical-align: top;\n",
       "    }\n",
       "\n",
       "    .dataframe thead th {\n",
       "        text-align: right;\n",
       "    }\n",
       "</style>\n",
       "<table border=\"1\" class=\"dataframe\">\n",
       "  <thead>\n",
       "    <tr style=\"text-align: right;\">\n",
       "      <th></th>\n",
       "      <th>subreddit</th>\n",
       "      <th>atext</th>\n",
       "    </tr>\n",
       "  </thead>\n",
       "  <tbody>\n",
       "    <tr>\n",
       "      <th>0</th>\n",
       "      <td>firstmarathon</td>\n",
       "      <td>First Marathon</td>\n",
       "    </tr>\n",
       "    <tr>\n",
       "      <th>1</th>\n",
       "      <td>firstmarathon</td>\n",
       "      <td>strength work (preferably body weight or dumbb...</td>\n",
       "    </tr>\n",
       "    <tr>\n",
       "      <th>2</th>\n",
       "      <td>firstmarathon</td>\n",
       "      <td>Looking for some Internet Karma + Confidence: ...</td>\n",
       "    </tr>\n",
       "    <tr>\n",
       "      <th>3</th>\n",
       "      <td>firstmarathon</td>\n",
       "      <td>Plan for Toronto Waterfront Marathon Hey ya’ll...</td>\n",
       "    </tr>\n",
       "    <tr>\n",
       "      <th>4</th>\n",
       "      <td>firstmarathon</td>\n",
       "      <td>Chafing in a rather uncomfortable area... any ...</td>\n",
       "    </tr>\n",
       "    <tr>\n",
       "      <th>...</th>\n",
       "      <td>...</td>\n",
       "      <td>...</td>\n",
       "    </tr>\n",
       "    <tr>\n",
       "      <th>1795</th>\n",
       "      <td>firstmarathon</td>\n",
       "      <td>Recovery advice Hi all! I'm training for my fi...</td>\n",
       "    </tr>\n",
       "    <tr>\n",
       "      <th>1796</th>\n",
       "      <td>firstmarathon</td>\n",
       "      <td>Nutrition plans for training? Hey there /r/fir...</td>\n",
       "    </tr>\n",
       "    <tr>\n",
       "      <th>1797</th>\n",
       "      <td>firstmarathon</td>\n",
       "      <td>Race Report: Edmonton International Marathon -...</td>\n",
       "    </tr>\n",
       "    <tr>\n",
       "      <th>1798</th>\n",
       "      <td>firstmarathon</td>\n",
       "      <td>First marathon is tomorrow... anything else I ...</td>\n",
       "    </tr>\n",
       "    <tr>\n",
       "      <th>1799</th>\n",
       "      <td>firstmarathon</td>\n",
       "      <td>First time running 5K, what should be my targe...</td>\n",
       "    </tr>\n",
       "  </tbody>\n",
       "</table>\n",
       "<p>1794 rows × 2 columns</p>\n",
       "</div>"
      ],
      "text/plain": [
       "          subreddit                                              atext\n",
       "0     firstmarathon                                   First Marathon  \n",
       "1     firstmarathon  strength work (preferably body weight or dumbb...\n",
       "2     firstmarathon  Looking for some Internet Karma + Confidence: ...\n",
       "3     firstmarathon  Plan for Toronto Waterfront Marathon Hey ya’ll...\n",
       "4     firstmarathon  Chafing in a rather uncomfortable area... any ...\n",
       "...             ...                                                ...\n",
       "1795  firstmarathon  Recovery advice Hi all! I'm training for my fi...\n",
       "1796  firstmarathon  Nutrition plans for training? Hey there /r/fir...\n",
       "1797  firstmarathon  Race Report: Edmonton International Marathon -...\n",
       "1798  firstmarathon  First marathon is tomorrow... anything else I ...\n",
       "1799  firstmarathon  First time running 5K, what should be my targe...\n",
       "\n",
       "[1794 rows x 2 columns]"
      ]
     },
     "execution_count": 127,
     "metadata": {},
     "output_type": "execute_result"
    }
   ],
   "source": [
    "# Processing the marathon dataset\n",
    "\n",
    "df_prep(mar)"
   ]
  },
  {
   "cell_type": "code",
   "execution_count": 128,
   "id": "89b85ffa-0dbb-4e34-bc56-ee77325385eb",
   "metadata": {},
   "outputs": [],
   "source": [
    "# Creating a set of stopwords to be used for processing the 2 DataFrame after EDA\n",
    "\n",
    "stops = stopwords.words('english')\n",
    "add_stopwords = [\"run\", \"running\", \"marathon\", \"get\", \"wa\", \"mile\"] # additional words added after EDA\n",
    "\n",
    "for words in add_stopwords:\n",
    "    stops.append(words)"
   ]
  },
  {
   "cell_type": "code",
   "execution_count": 129,
   "id": "11b54578-9234-4fa2-816f-5730875e5dd5",
   "metadata": {},
   "outputs": [],
   "source": [
    "# Function to convert a raw review to a string of words\n",
    "def atext_to_words(column):\n",
    "    \n",
    "    # instantiating lemmatizer\n",
    "    lemmatizer = WordNetLemmatizer()\n",
    "    \n",
    "    # 1. remove URL with regex\n",
    "    atext = re.sub(r'http\\S+', '', column)\n",
    "    \n",
    "    # 2. Remove HTML.\n",
    "    atext_text = BeautifulSoup(atext).get_text()\n",
    "    \n",
    "    # 3. Remove non-letters.\n",
    "    letters_only = re.sub(\"[^a-zA-Z]\", \" \", atext_text)\n",
    "    \n",
    "    # 4. Convert to lower case, split into individual words.\n",
    "    words = letters_only.lower().split()\n",
    "    \n",
    "    # 5. lemmatize words \n",
    "    lem_words = [lemmatizer.lemmatize(i) for i in words]\n",
    "    \n",
    "    # 6. Convert the stopwords to a set for faster runs\n",
    "    stops = set(stopwords.words('english') + add_stopwords)\n",
    "  \n",
    "    \n",
    "    # 6. Remove stopwords.\n",
    "    meaningful_words = [w for w in lem_words if not w in stops]\n",
    "    \n",
    "    # 7. Join the words back into one string separated by space, \n",
    "    # and return the result.\n",
    "    return(\" \".join(meaningful_words))"
   ]
  },
  {
   "cell_type": "markdown",
   "id": "f9d35184-e85e-4f08-a17c-f448b7dc728a",
   "metadata": {},
   "source": [
    "### EDA"
   ]
  },
  {
   "cell_type": "code",
   "execution_count": 130,
   "id": "6ad9256d-9061-4479-8089-8dad162c4047",
   "metadata": {},
   "outputs": [
    {
     "name": "stderr",
     "output_type": "stream",
     "text": [
      "C:\\Users\\cheon\\.conda\\envs\\dsi30\\lib\\site-packages\\bs4\\__init__.py:435: MarkupResemblesLocatorWarning: The input looks more like a filename than markup. You may want to open this file and pass the filehandle into Beautiful Soup.\n",
      "  warnings.warn(\n"
     ]
    }
   ],
   "source": [
    "#Processing the long string in run dataframe\n",
    "run['atext'] = run['atext'].map(atext_to_words)"
   ]
  },
  {
   "cell_type": "code",
   "execution_count": 131,
   "id": "c03a970d-8df7-470c-b0ad-803f80020fc9",
   "metadata": {},
   "outputs": [
    {
     "data": {
      "image/png": "[encoded data removed]",
      "text/plain": [
       "<Figure size 432x288 with 1 Axes>"
      ]
     },
     "metadata": {
      "needs_background": "light"
     },
     "output_type": "display_data"
    }
   ],
   "source": [
    "# Plotting words with top counts in run\n",
    "\n",
    "X = run['atext']\n",
    "cvec = CountVectorizer()\n",
    "cvec.fit(X)\n",
    "X = cvec.transform(X)\n",
    "X_run_df = pd.DataFrame(X.todense(),\n",
    "                        columns=cvec.get_feature_names_out())\n",
    "X_run_df.sum().sort_values(ascending = False).head(10).plot(kind=\"barh\", cmap = \"plasma\")\n",
    "plt.title(\"Running Top Word Counts\");"
   ]
  },
  {
   "cell_type": "code",
   "execution_count": 132,
   "id": "94c9faff-df08-4bf9-85a8-736665b544b6",
   "metadata": {
    "tags": []
   },
   "outputs": [
    {
     "name": "stderr",
     "output_type": "stream",
     "text": [
      "C:\\Users\\cheon\\.conda\\envs\\dsi30\\lib\\site-packages\\bs4\\__init__.py:435: MarkupResemblesLocatorWarning: The input looks more like a filename than markup. You may want to open this file and pass the filehandle into Beautiful Soup.\n",
      "  warnings.warn(\n"
     ]
    }
   ],
   "source": [
    "#Processing the long string in marathon dataframe\n",
    "mar['atext'] = mar['atext'].map(atext_to_words)"
   ]
  },
  {
   "cell_type": "code",
   "execution_count": 133,
   "id": "da7e25c8-b482-497a-9fd7-12a6fb303cb6",
   "metadata": {
    "tags": []
   },
   "outputs": [
    {
     "data": {
      "image/png": "[encoded data removed]",
      "text/plain": [
       "<Figure size 432x288 with 1 Axes>"
      ]
     },
     "metadata": {
      "needs_background": "light"
     },
     "output_type": "display_data"
    }
   ],
   "source": [
    "# Plotting words with top counts in marathon\n",
    "\n",
    "X_mar = mar['atext']\n",
    "cvec.fit(X_mar)\n",
    "X_mar = cvec.transform(X_mar)\n",
    "X_mar_df = pd.DataFrame(X_mar.todense(),\n",
    "                        columns=cvec.get_feature_names_out())\n",
    "X_mar_df.sum().sort_values(ascending = False).head(10).plot(kind=\"barh\")\n",
    "plt.title(\"Marathon Top Word Counts\");"
   ]
  },
  {
   "cell_type": "markdown",
   "id": "5450fe0a-c0a6-41a8-b62b-cd9ffe8c1bd7",
   "metadata": {},
   "source": [
    "After comparing the two bar chart for top word counts from the running and marathon dataset, we do see a good mix of common words among the two with week and training both in the top 3 spots in terms of word count altough both words appears more often in marathon posts.\n",
    "\n",
    "Some unique words that are only found in Marathon's top ten list are \"long\", \"plan\" and \"half\". They seem reasonable as first time marathoners are likely to need a training plan, will introduce more long runs in their training and the word \"half\" probably came from discussion on half marathons."
   ]
  },
  {
   "cell_type": "code",
   "execution_count": 134,
   "id": "8508291c-5f26-4aa2-89e5-3f524f73c7cf",
   "metadata": {
    "tags": []
   },
   "outputs": [],
   "source": [
    "#Combine the two dataframes for further processing and modelling\n",
    "\n",
    "df = pd.concat([run,mar])"
   ]
  },
  {
   "cell_type": "code",
   "execution_count": 135,
   "id": "bc12ef65-a174-4687-a7ff-f8d1a7c9f2eb",
   "metadata": {},
   "outputs": [],
   "source": [
    "df.reset_index(inplace = True, drop = True)"
   ]
  },
  {
   "cell_type": "code",
   "execution_count": 136,
   "id": "f57530a1-5c94-4f2c-a43f-02bb38796f16",
   "metadata": {},
   "outputs": [
    {
     "data": {
      "text/plain": [
       "(3564, 2)"
      ]
     },
     "execution_count": 136,
     "metadata": {},
     "output_type": "execute_result"
    }
   ],
   "source": [
    "# checking the shape\n",
    "\n",
    "df.shape"
   ]
  },
  {
   "cell_type": "code",
   "execution_count": 137,
   "id": "019037a6-caf9-4265-8d23-feffe92d5f59",
   "metadata": {},
   "outputs": [
    {
     "data": {
      "text/html": [
       "<div>\n",
       "<style scoped>\n",
       "    .dataframe tbody tr th:only-of-type {\n",
       "        vertical-align: middle;\n",
       "    }\n",
       "\n",
       "    .dataframe tbody tr th {\n",
       "        vertical-align: top;\n",
       "    }\n",
       "\n",
       "    .dataframe thead th {\n",
       "        text-align: right;\n",
       "    }\n",
       "</style>\n",
       "<table border=\"1\" class=\"dataframe\">\n",
       "  <thead>\n",
       "    <tr style=\"text-align: right;\">\n",
       "      <th></th>\n",
       "      <th>subreddit</th>\n",
       "      <th>atext</th>\n",
       "    </tr>\n",
       "  </thead>\n",
       "  <tbody>\n",
       "    <tr>\n",
       "      <th>0</th>\n",
       "      <td>running</td>\n",
       "      <td>treadmill question orbit starstrider hi bought...</td>\n",
       "    </tr>\n",
       "    <tr>\n",
       "      <th>1</th>\n",
       "      <td>running</td>\n",
       "      <td>everyday die faster hi im couch potato working...</td>\n",
       "    </tr>\n",
       "    <tr>\n",
       "      <th>2</th>\n",
       "      <td>running</td>\n",
       "      <td>couch month</td>\n",
       "    </tr>\n",
       "    <tr>\n",
       "      <th>3</th>\n",
       "      <td>running</td>\n",
       "      <td>encouragement future started sick year ran f h...</td>\n",
       "    </tr>\n",
       "    <tr>\n",
       "      <th>4</th>\n",
       "      <td>running</td>\n",
       "      <td>knee stiffness hey fellow runner started week ...</td>\n",
       "    </tr>\n",
       "  </tbody>\n",
       "</table>\n",
       "</div>"
      ],
      "text/plain": [
       "  subreddit                                              atext\n",
       "0   running  treadmill question orbit starstrider hi bought...\n",
       "1   running  everyday die faster hi im couch potato working...\n",
       "2   running                                        couch month\n",
       "3   running  encouragement future started sick year ran f h...\n",
       "4   running  knee stiffness hey fellow runner started week ..."
      ]
     },
     "execution_count": 137,
     "metadata": {},
     "output_type": "execute_result"
    }
   ],
   "source": [
    "df.head()"
   ]
  },
  {
   "cell_type": "code",
   "execution_count": 138,
   "id": "7f8c44e2-4dbb-4f42-bb34-95d8ba415afa",
   "metadata": {},
   "outputs": [
    {
     "data": {
      "text/html": [
       "<div>\n",
       "<style scoped>\n",
       "    .dataframe tbody tr th:only-of-type {\n",
       "        vertical-align: middle;\n",
       "    }\n",
       "\n",
       "    .dataframe tbody tr th {\n",
       "        vertical-align: top;\n",
       "    }\n",
       "\n",
       "    .dataframe thead th {\n",
       "        text-align: right;\n",
       "    }\n",
       "</style>\n",
       "<table border=\"1\" class=\"dataframe\">\n",
       "  <thead>\n",
       "    <tr style=\"text-align: right;\">\n",
       "      <th></th>\n",
       "      <th>subreddit</th>\n",
       "      <th>atext</th>\n",
       "    </tr>\n",
       "  </thead>\n",
       "  <tbody>\n",
       "    <tr>\n",
       "      <th>3559</th>\n",
       "      <td>firstmarathon</td>\n",
       "      <td>recovery advice hi training first full january...</td>\n",
       "    </tr>\n",
       "    <tr>\n",
       "      <th>3560</th>\n",
       "      <td>firstmarathon</td>\n",
       "      <td>nutrition plan training hey r firstmarathon ea...</td>\n",
       "    </tr>\n",
       "    <tr>\n",
       "      <th>3561</th>\n",
       "      <td>firstmarathon</td>\n",
       "      <td>race report edmonton international first x pos...</td>\n",
       "    </tr>\n",
       "    <tr>\n",
       "      <th>3562</th>\n",
       "      <td>firstmarathon</td>\n",
       "      <td>first tomorrow anything else ready finished tr...</td>\n",
       "    </tr>\n",
       "    <tr>\n",
       "      <th>3563</th>\n",
       "      <td>firstmarathon</td>\n",
       "      <td>first time k target time currently lb min firs...</td>\n",
       "    </tr>\n",
       "  </tbody>\n",
       "</table>\n",
       "</div>"
      ],
      "text/plain": [
       "          subreddit                                              atext\n",
       "3559  firstmarathon  recovery advice hi training first full january...\n",
       "3560  firstmarathon  nutrition plan training hey r firstmarathon ea...\n",
       "3561  firstmarathon  race report edmonton international first x pos...\n",
       "3562  firstmarathon  first tomorrow anything else ready finished tr...\n",
       "3563  firstmarathon  first time k target time currently lb min firs..."
      ]
     },
     "execution_count": 138,
     "metadata": {},
     "output_type": "execute_result"
    }
   ],
   "source": [
    "df.tail()"
   ]
  },
  {
   "cell_type": "markdown",
   "id": "1bbfa938-52c9-4648-bf77-163ca838fae5",
   "metadata": {},
   "source": [
    "## Preprocessing and Modeling\n"
   ]
  },
  {
   "cell_type": "markdown",
   "id": "f4b94aa3-05b1-4b2e-9966-639745445a05",
   "metadata": {},
   "source": [
    "### Preprocessing"
   ]
  },
  {
   "cell_type": "code",
   "execution_count": 139,
   "id": "400db494-d920-4bb6-ae37-9f953115868f",
   "metadata": {},
   "outputs": [],
   "source": [
    "# Mapping running as \"0\" and firstmarathon as \"1\"\n",
    "df['subreddit'] = df[\"subreddit\"].map({\"running\":0,\"firstmarathon\":1})"
   ]
  },
  {
   "cell_type": "code",
   "execution_count": 140,
   "id": "54bf174f-e2ef-42fe-8a75-eb7a51907ce3",
   "metadata": {},
   "outputs": [],
   "source": [
    "# Defining our X and y\n",
    "\n",
    "X = df['atext'].map(atext_to_words) # mapping the function to process post into a long string\n",
    "y = df[\"subreddit\"]"
   ]
  },
  {
   "cell_type": "code",
   "execution_count": 141,
   "id": "d068cea7-0b64-4404-a80d-75ad26659ba7",
   "metadata": {},
   "outputs": [],
   "source": [
    "# Creating a train test split with 80% train and 20% test data\n",
    "\n",
    "X_train, X_test, y_train, y_test = train_test_split(X,\n",
    "                                                    y,\n",
    "                                                    test_size=0.2,\n",
    "                                                    stratify=y,\n",
    "                                                    random_state=42)"
   ]
  },
  {
   "cell_type": "markdown",
   "id": "b2ba7638-a8fd-4878-bef3-71b1a8ed5e05",
   "metadata": {},
   "source": [
    "### Modelling"
   ]
  },
  {
   "cell_type": "code",
   "execution_count": 142,
   "id": "3f4956b1-d2b6-440f-a6da-80658980adf7",
   "metadata": {},
   "outputs": [],
   "source": [
    "# Instantiating the 2 Vectorizers\n",
    "cvec = CountVectorizer()\n",
    "tvec = TfidfVectorizer()"
   ]
  },
  {
   "cell_type": "code",
   "execution_count": 143,
   "id": "f2da118e-60b0-4ea2-88f8-0714fc1dfed6",
   "metadata": {},
   "outputs": [],
   "source": [
    "# Instantiating the 5 Classifiers\n",
    "nb = MultinomialNB()\n",
    "lr = LogisticRegression()\n",
    "knn = KNeighborsClassifier()\n",
    "bg = BaggingClassifier()\n",
    "rf = RandomForestClassifier()"
   ]
  },
  {
   "cell_type": "code",
   "execution_count": 144,
   "id": "57b2d060-424a-4480-a762-b71459e94979",
   "metadata": {},
   "outputs": [],
   "source": [
    "# Defining a function for modelling\n",
    "\n",
    "def run_or_mar(vec_name, vec_model, model_name, model, params):\n",
    "    \n",
    "    pipe = Pipeline([\n",
    "        (vec_name, vec_model),\n",
    "        (model_name, model)])\n",
    "    \n",
    "    print(pipe)\n",
    "    \n",
    "    gs = GridSearchCV(pipe,\n",
    "                      param_grid = params,\n",
    "                      verbose = 1,\n",
    "                      cv = 5)\n",
    "    print(gs)\n",
    "    \n",
    "    gs.fit(X_train, y_train)\n",
    "    \n",
    "    print(f'Optimal parameters for {vec_name}_{model_name} are {gs.best_params_}.')\n",
    "    print(f'Best score for {vec_name}_{model_name} are {gs.best_score_}.')\n",
    "    print(f'Train score for {vec_name}_{model_name} is {gs.score(X_train,y_train)}.')\n",
    "    print(f'Test score for {vec_name}_{model_name} is {gs.score(X_test,y_test)}.')\n",
    "    \n",
    "    preds = gs.predict(X_test)\n",
    "    \n",
    "    tn, fp, fn, tp = confusion_matrix(y_test, preds).ravel()\n",
    "    cm = confusion_matrix(y_test, preds)\n",
    "    \n",
    "    spec = tn / (tn + fp)\n",
    "    sens = tp / (tp + fn)\n",
    "\n",
    "    print('Specificity:', spec)\n",
    "    print('Sensitivity:', sens)\n",
    "    \n",
    "    disp = ConfusionMatrixDisplay(cm)\n",
    "    disp.plot(cmap=\"hot\")\n",
    "    plt.title(f'Confusion Matrix {vec_name}_{model_name}.');\n",
    "    \n",
    "    if model_name == \"nb\":\n",
    "        \n",
    "        coef1 = gs.best_estimator_[0].get_feature_names_out()\n",
    "        log_prob_diff = gs.best_estimator_.steps[1][1].feature_log_prob_[1] - gs.best_estimator_.steps[1][1].feature_log_prob_[0]\n",
    "        df_coef = pd.DataFrame(log_prob_diff,index=coef1)\n",
    "        df_coef.columns = [\"coef_nb\"]\n",
    "        return df_coef.sort_values(by = ['coef_nb'],ascending = False).head(10)\n",
    "\n",
    "    elif model_name == \"lr\":\n",
    "        \n",
    "        n_coef3 = gs.best_estimator_[0].get_feature_names_out()\n",
    "        coef3 = gs.best_estimator_.named_steps.lr.coef_[0]\n",
    "        coef3 = np.exp(coef3)\n",
    "        df_coef3 = pd.DataFrame(coef3,index=n_coef3)\n",
    "        df_coef3.columns = [\"coef_lr\"]\n",
    "        return df_coef3.sort_values(by = ['coef_lr'],ascending = False).head(10)\n",
    "    \n",
    "    elif model_name == \"rf\":\n",
    "        \n",
    "        n_coef3 = gs.best_estimator_[0].get_feature_names_out()\n",
    "        coef3 = gs.best_estimator_.named_steps.rf.feature_importances_\n",
    "        df_coef3 = pd.DataFrame(coef3,index=n_coef3)\n",
    "        df_coef3.columns = [\"coef_rf\"]\n",
    "        return df_coef3.sort_values(by = ['coef_rf'],ascending = False).head(10)\n",
    "        \n",
    "    else:\n",
    "        \n",
    "        pass\n",
    "        "
   ]
  },
  {
   "cell_type": "code",
   "execution_count": 145,
   "id": "04a8568b-b07a-4bbf-b667-20babe66cd28",
   "metadata": {},
   "outputs": [],
   "source": [
    "# Defining a function for getting model parameters\n",
    "\n",
    "def param_gen(vec_name, vec_model, model_name, model):\n",
    "    \n",
    "    pipe = Pipeline([\n",
    "        (vec_name, vec_model),\n",
    "        (model_name, model)])\n",
    "\n",
    "    return pipe.get_params()\n",
    "    "
   ]
  },
  {
   "cell_type": "markdown",
   "id": "8d601355-5a23-4d54-a612-3670bda0de23",
   "metadata": {},
   "source": [
    "#### CountVectorizer NB"
   ]
  },
  {
   "cell_type": "code",
   "execution_count": 146,
   "id": "5e776bed-9ac6-4996-a4e7-613ce7053aed",
   "metadata": {
    "tags": []
   },
   "outputs": [
    {
     "data": {
      "text/plain": [
       "{'memory': None,\n",
       " 'steps': [('cvec', CountVectorizer()), ('nb', MultinomialNB())],\n",
       " 'verbose': False,\n",
       " 'cvec': CountVectorizer(),\n",
       " 'nb': MultinomialNB(),\n",
       " 'cvec__analyzer': 'word',\n",
       " 'cvec__binary': False,\n",
       " 'cvec__decode_error': 'strict',\n",
       " 'cvec__dtype': numpy.int64,\n",
       " 'cvec__encoding': 'utf-8',\n",
       " 'cvec__input': 'content',\n",
       " 'cvec__lowercase': True,\n",
       " 'cvec__max_df': 1.0,\n",
       " 'cvec__max_features': None,\n",
       " 'cvec__min_df': 1,\n",
       " 'cvec__ngram_range': (1, 1),\n",
       " 'cvec__preprocessor': None,\n",
       " 'cvec__stop_words': None,\n",
       " 'cvec__strip_accents': None,\n",
       " 'cvec__token_pattern': '(?u)\\\\b\\\\w\\\\w+\\\\b',\n",
       " 'cvec__tokenizer': None,\n",
       " 'cvec__vocabulary': None,\n",
       " 'nb__alpha': 1.0,\n",
       " 'nb__class_prior': None,\n",
       " 'nb__fit_prior': True}"
      ]
     },
     "execution_count": 146,
     "metadata": {},
     "output_type": "execute_result"
    }
   ],
   "source": [
    "# generate parameters to be set for modelling\n",
    "param_gen('cvec',cvec,'nb',nb)"
   ]
  },
  {
   "cell_type": "code",
   "execution_count": 147,
   "id": "64ea1745-9d10-40ba-95e8-e87553135fc3",
   "metadata": {},
   "outputs": [],
   "source": [
    "# Setting parameters for modelling\n",
    "\n",
    "cvec_nb_params = {\n",
    "    'cvec__max_features': [5_000], #[2_000, 3_000, 4_000, 5_000, 6_000, 7_000],\n",
    "    'cvec__min_df': [3], #[2, 3],\n",
    "    'cvec__max_df':[.9], #[.9, .95],\n",
    "    'cvec__ngram_range': [(1,2)], #[(1,1), (1,2), (1,3)]\n",
    "    'nb__alpha': [1.0], #[0.2,0.5,1.0]\n",
    "}"
   ]
  },
  {
   "cell_type": "code",
   "execution_count": 148,
   "id": "3b51e86b-eaa7-4d42-8fc8-b9b57664aa18",
   "metadata": {},
   "outputs": [
    {
     "name": "stdout",
     "output_type": "stream",
     "text": [
      "Pipeline(steps=[('cvec', CountVectorizer()), ('nb', MultinomialNB())])\n",
      "GridSearchCV(cv=5,\n",
      "             estimator=Pipeline(steps=[('cvec', CountVectorizer()),\n",
      "                                       ('nb', MultinomialNB())]),\n",
      "             param_grid={'cvec__max_df': [0.9], 'cvec__max_features': [5000],\n",
      "                         'cvec__min_df': [3], 'cvec__ngram_range': [(1, 2)],\n",
      "                         'nb__alpha': [1.0]},\n",
      "             verbose=1)\n",
      "Fitting 5 folds for each of 1 candidates, totalling 5 fits\n",
      "Optimal parameters for cvec_nb are {'cvec__max_df': 0.9, 'cvec__max_features': 5000, 'cvec__min_df': 3, 'cvec__ngram_range': (1, 2), 'nb__alpha': 1.0}.\n",
      "Best score for cvec_nb are 0.8021765446892186.\n",
      "Train score for cvec_nb is 0.8589968432129077.\n",
      "Test score for cvec_nb is 0.7629733520336606.\n",
      "Specificity: 0.7711864406779662\n",
      "Sensitivity: 0.754874651810585\n"
     ]
    },
    {
     "data": {
      "text/html": [
       "<div>\n",
       "<style scoped>\n",
       "    .dataframe tbody tr th:only-of-type {\n",
       "        vertical-align: middle;\n",
       "    }\n",
       "\n",
       "    .dataframe tbody tr th {\n",
       "        vertical-align: top;\n",
       "    }\n",
       "\n",
       "    .dataframe thead th {\n",
       "        text-align: right;\n",
       "    }\n",
       "</style>\n",
       "<table border=\"1\" class=\"dataframe\">\n",
       "  <thead>\n",
       "    <tr style=\"text-align: right;\">\n",
       "      <th></th>\n",
       "      <th>coef_nb</th>\n",
       "    </tr>\n",
       "  </thead>\n",
       "  <tbody>\n",
       "    <tr>\n",
       "      <th>higdon novice</th>\n",
       "      <td>4.324131</td>\n",
       "    </tr>\n",
       "    <tr>\n",
       "      <th>marathoner</th>\n",
       "      <td>3.492397</td>\n",
       "    </tr>\n",
       "    <tr>\n",
       "      <th>novice plan</th>\n",
       "      <td>3.464998</td>\n",
       "    </tr>\n",
       "    <tr>\n",
       "      <th>hartford</th>\n",
       "      <td>3.282677</td>\n",
       "    </tr>\n",
       "    <tr>\n",
       "      <th>chicago</th>\n",
       "      <td>3.100355</td>\n",
       "    </tr>\n",
       "    <tr>\n",
       "      <th>registered</th>\n",
       "      <td>3.016974</td>\n",
       "    </tr>\n",
       "    <tr>\n",
       "      <th>following hal</th>\n",
       "      <td>2.877212</td>\n",
       "    </tr>\n",
       "    <tr>\n",
       "      <th>first sunday</th>\n",
       "      <td>2.825918</td>\n",
       "    </tr>\n",
       "    <tr>\n",
       "      <th>san</th>\n",
       "      <td>2.825918</td>\n",
       "    </tr>\n",
       "    <tr>\n",
       "      <th>parent</th>\n",
       "      <td>2.825918</td>\n",
       "    </tr>\n",
       "  </tbody>\n",
       "</table>\n",
       "</div>"
      ],
      "text/plain": [
       "                coef_nb\n",
       "higdon novice  4.324131\n",
       "marathoner     3.492397\n",
       "novice plan    3.464998\n",
       "hartford       3.282677\n",
       "chicago        3.100355\n",
       "registered     3.016974\n",
       "following hal  2.877212\n",
       "first sunday   2.825918\n",
       "san            2.825918\n",
       "parent         2.825918"
      ]
     },
     "execution_count": 148,
     "metadata": {},
     "output_type": "execute_result"
    },
    {
     "data": {
      "image/png": "[encoded data removed]",
      "text/plain": [
       "<Figure size 432x288 with 2 Axes>"
      ]
     },
     "metadata": {
      "needs_background": "light"
     },
     "output_type": "display_data"
    }
   ],
   "source": [
    "run_or_mar('cvec',cvec,'nb',nb,cvec_nb_params)"
   ]
  },
  {
   "cell_type": "markdown",
   "id": "7faecebe-9cb6-48b6-9969-2fae57b34fb8",
   "metadata": {},
   "source": [
    "#### TfidfVectorizer NB"
   ]
  },
  {
   "cell_type": "code",
   "execution_count": 149,
   "id": "a8ee6d7b-130b-405d-a04e-9d418f76e946",
   "metadata": {
    "tags": []
   },
   "outputs": [
    {
     "data": {
      "text/plain": [
       "{'memory': None,\n",
       " 'steps': [('tvec', TfidfVectorizer()), ('nb', MultinomialNB())],\n",
       " 'verbose': False,\n",
       " 'tvec': TfidfVectorizer(),\n",
       " 'nb': MultinomialNB(),\n",
       " 'tvec__analyzer': 'word',\n",
       " 'tvec__binary': False,\n",
       " 'tvec__decode_error': 'strict',\n",
       " 'tvec__dtype': numpy.float64,\n",
       " 'tvec__encoding': 'utf-8',\n",
       " 'tvec__input': 'content',\n",
       " 'tvec__lowercase': True,\n",
       " 'tvec__max_df': 1.0,\n",
       " 'tvec__max_features': None,\n",
       " 'tvec__min_df': 1,\n",
       " 'tvec__ngram_range': (1, 1),\n",
       " 'tvec__norm': 'l2',\n",
       " 'tvec__preprocessor': None,\n",
       " 'tvec__smooth_idf': True,\n",
       " 'tvec__stop_words': None,\n",
       " 'tvec__strip_accents': None,\n",
       " 'tvec__sublinear_tf': False,\n",
       " 'tvec__token_pattern': '(?u)\\\\b\\\\w\\\\w+\\\\b',\n",
       " 'tvec__tokenizer': None,\n",
       " 'tvec__use_idf': True,\n",
       " 'tvec__vocabulary': None,\n",
       " 'nb__alpha': 1.0,\n",
       " 'nb__class_prior': None,\n",
       " 'nb__fit_prior': True}"
      ]
     },
     "execution_count": 149,
     "metadata": {},
     "output_type": "execute_result"
    }
   ],
   "source": [
    "param_gen('tvec',tvec,'nb',nb)"
   ]
  },
  {
   "cell_type": "code",
   "execution_count": 150,
   "id": "2374c232-0358-4a2c-89e1-a2fd90f9744a",
   "metadata": {},
   "outputs": [],
   "source": [
    "tvec_nb_params = {\n",
    "    'tvec__max_features': [4_000], #[2_000, 3_000, 4_000, 5_000]\n",
    "    'tvec__stop_words': [None], #[None, 'english']\n",
    "    'tvec__ngram_range': [(1,3)], #[(1,1), (1,2), (1,3)]\n",
    "    'nb__alpha': [1.0] #[0.1,0.5,1.0]\n",
    "}"
   ]
  },
  {
   "cell_type": "code",
   "execution_count": 151,
   "id": "c760853b-e471-491c-ab0b-fe69d66aa680",
   "metadata": {
    "tags": []
   },
   "outputs": [
    {
     "name": "stdout",
     "output_type": "stream",
     "text": [
      "Pipeline(steps=[('tvec', TfidfVectorizer()), ('nb', MultinomialNB())])\n",
      "GridSearchCV(cv=5,\n",
      "             estimator=Pipeline(steps=[('tvec', TfidfVectorizer()),\n",
      "                                       ('nb', MultinomialNB())]),\n",
      "             param_grid={'nb__alpha': [1.0], 'tvec__max_features': [4000],\n",
      "                         'tvec__ngram_range': [(1, 3)],\n",
      "                         'tvec__stop_words': [None]},\n",
      "             verbose=1)\n",
      "Fitting 5 folds for each of 1 candidates, totalling 5 fits\n",
      "Optimal parameters for tvec_nb are {'nb__alpha': 1.0, 'tvec__max_features': 4000, 'tvec__ngram_range': (1, 3), 'tvec__stop_words': None}.\n",
      "Best score for tvec_nb are 0.7951602298214889.\n",
      "Train score for tvec_nb is 0.8793405822518414.\n",
      "Test score for tvec_nb is 0.761570827489481.\n",
      "Specificity: 0.748587570621469\n",
      "Sensitivity: 0.7743732590529248\n"
     ]
    },
    {
     "data": {
      "text/html": [
       "<div>\n",
       "<style scoped>\n",
       "    .dataframe tbody tr th:only-of-type {\n",
       "        vertical-align: middle;\n",
       "    }\n",
       "\n",
       "    .dataframe tbody tr th {\n",
       "        vertical-align: top;\n",
       "    }\n",
       "\n",
       "    .dataframe thead th {\n",
       "        text-align: right;\n",
       "    }\n",
       "</style>\n",
       "<table border=\"1\" class=\"dataframe\">\n",
       "  <thead>\n",
       "    <tr style=\"text-align: right;\">\n",
       "      <th></th>\n",
       "      <th>coef_nb</th>\n",
       "    </tr>\n",
       "  </thead>\n",
       "  <tbody>\n",
       "    <tr>\n",
       "      <th>higdon novice</th>\n",
       "      <td>2.176424</td>\n",
       "    </tr>\n",
       "    <tr>\n",
       "      <th>higdon</th>\n",
       "      <td>2.068963</td>\n",
       "    </tr>\n",
       "    <tr>\n",
       "      <th>chicago</th>\n",
       "      <td>2.037032</td>\n",
       "    </tr>\n",
       "    <tr>\n",
       "      <th>hal</th>\n",
       "      <td>2.002593</td>\n",
       "    </tr>\n",
       "    <tr>\n",
       "      <th>hal higdon novice</th>\n",
       "      <td>1.992613</td>\n",
       "    </tr>\n",
       "    <tr>\n",
       "      <th>hal higdon</th>\n",
       "      <td>1.961368</td>\n",
       "    </tr>\n",
       "    <tr>\n",
       "      <th>taper</th>\n",
       "      <td>1.951290</td>\n",
       "    </tr>\n",
       "    <tr>\n",
       "      <th>novice</th>\n",
       "      <td>1.812514</td>\n",
       "    </tr>\n",
       "    <tr>\n",
       "      <th>first full</th>\n",
       "      <td>1.760943</td>\n",
       "    </tr>\n",
       "    <tr>\n",
       "      <th>miler</th>\n",
       "      <td>1.653291</td>\n",
       "    </tr>\n",
       "  </tbody>\n",
       "</table>\n",
       "</div>"
      ],
      "text/plain": [
       "                    coef_nb\n",
       "higdon novice      2.176424\n",
       "higdon             2.068963\n",
       "chicago            2.037032\n",
       "hal                2.002593\n",
       "hal higdon novice  1.992613\n",
       "hal higdon         1.961368\n",
       "taper              1.951290\n",
       "novice             1.812514\n",
       "first full         1.760943\n",
       "miler              1.653291"
      ]
     },
     "execution_count": 151,
     "metadata": {},
     "output_type": "execute_result"
    },
    {
     "data": {
      "image/png": "[encoded data removed]",
      "text/plain": [
       "<Figure size 432x288 with 2 Axes>"
      ]
     },
     "metadata": {
      "needs_background": "light"
     },
     "output_type": "display_data"
    }
   ],
   "source": [
    "run_or_mar('tvec',tvec, 'nb', nb, tvec_nb_params)"
   ]
  },
  {
   "cell_type": "markdown",
   "id": "e631d0e2-8ea8-40bd-b1c8-f4a69fe164fd",
   "metadata": {},
   "source": [
    "#### CountVectorizer Logistic Regression"
   ]
  },
  {
   "cell_type": "code",
   "execution_count": 152,
   "id": "3023b5aa-4bba-415f-956d-8957f186ce68",
   "metadata": {
    "tags": []
   },
   "outputs": [
    {
     "data": {
      "text/plain": [
       "{'memory': None,\n",
       " 'steps': [('cvec', CountVectorizer()), ('lr', LogisticRegression())],\n",
       " 'verbose': False,\n",
       " 'cvec': CountVectorizer(),\n",
       " 'lr': LogisticRegression(),\n",
       " 'cvec__analyzer': 'word',\n",
       " 'cvec__binary': False,\n",
       " 'cvec__decode_error': 'strict',\n",
       " 'cvec__dtype': numpy.int64,\n",
       " 'cvec__encoding': 'utf-8',\n",
       " 'cvec__input': 'content',\n",
       " 'cvec__lowercase': True,\n",
       " 'cvec__max_df': 1.0,\n",
       " 'cvec__max_features': None,\n",
       " 'cvec__min_df': 1,\n",
       " 'cvec__ngram_range': (1, 1),\n",
       " 'cvec__preprocessor': None,\n",
       " 'cvec__stop_words': None,\n",
       " 'cvec__strip_accents': None,\n",
       " 'cvec__token_pattern': '(?u)\\\\b\\\\w\\\\w+\\\\b',\n",
       " 'cvec__tokenizer': None,\n",
       " 'cvec__vocabulary': None,\n",
       " 'lr__C': 1.0,\n",
       " 'lr__class_weight': None,\n",
       " 'lr__dual': False,\n",
       " 'lr__fit_intercept': True,\n",
       " 'lr__intercept_scaling': 1,\n",
       " 'lr__l1_ratio': None,\n",
       " 'lr__max_iter': 100,\n",
       " 'lr__multi_class': 'auto',\n",
       " 'lr__n_jobs': None,\n",
       " 'lr__penalty': 'l2',\n",
       " 'lr__random_state': None,\n",
       " 'lr__solver': 'lbfgs',\n",
       " 'lr__tol': 0.0001,\n",
       " 'lr__verbose': 0,\n",
       " 'lr__warm_start': False}"
      ]
     },
     "execution_count": 152,
     "metadata": {},
     "output_type": "execute_result"
    }
   ],
   "source": [
    "param_gen('cvec',cvec,'lr',lr)"
   ]
  },
  {
   "cell_type": "code",
   "execution_count": 153,
   "id": "58bf4af9-4ecc-4839-b85d-1222e29dda86",
   "metadata": {},
   "outputs": [],
   "source": [
    "cvec_lr_params = {\n",
    "    'cvec__max_features': [5_000], #[2_000, 3_000, 4_000, 5_000, 6_000]\n",
    "    'cvec__min_df':  [2], #[2, 3]\n",
    "    'cvec__max_df':[.9], #[.9, .95]\n",
    "    'cvec__ngram_range': [(1,3)], #[(1,1), (1,2), (1,3)]\n",
    "    'lr__max_iter': [5000], #[5000,10000]\n",
    "    'lr__C': [0.1], #[0.1,0.2,0.5,1.0],\n",
    "    'lr__solver': ['lbfgs'] #['lbfgs','liblinear','newton-cg']\n",
    "}"
   ]
  },
  {
   "cell_type": "code",
   "execution_count": 154,
   "id": "9f280fce-52f7-4ec4-8b51-a0738f807d40",
   "metadata": {},
   "outputs": [
    {
     "name": "stdout",
     "output_type": "stream",
     "text": [
      "Pipeline(steps=[('cvec', CountVectorizer()), ('lr', LogisticRegression())])\n",
      "GridSearchCV(cv=5,\n",
      "             estimator=Pipeline(steps=[('cvec', CountVectorizer()),\n",
      "                                       ('lr', LogisticRegression())]),\n",
      "             param_grid={'cvec__max_df': [0.9], 'cvec__max_features': [5000],\n",
      "                         'cvec__min_df': [2], 'cvec__ngram_range': [(1, 3)],\n",
      "                         'lr__C': [0.1], 'lr__max_iter': [5000],\n",
      "                         'lr__solver': ['lbfgs']},\n",
      "             verbose=1)\n",
      "Fitting 5 folds for each of 1 candidates, totalling 5 fits\n",
      "Optimal parameters for cvec_lr are {'cvec__max_df': 0.9, 'cvec__max_features': 5000, 'cvec__min_df': 2, 'cvec__ngram_range': (1, 3), 'lr__C': 0.1, 'lr__max_iter': 5000, 'lr__solver': 'lbfgs'}.\n",
      "Best score for cvec_lr are 0.789197775524626.\n",
      "Train score for cvec_lr is 0.9203788144510698.\n",
      "Test score for cvec_lr is 0.7671809256661991.\n",
      "Specificity: 0.7401129943502824\n",
      "Sensitivity: 0.7938718662952646\n"
     ]
    },
    {
     "data": {
      "text/html": [
       "<div>\n",
       "<style scoped>\n",
       "    .dataframe tbody tr th:only-of-type {\n",
       "        vertical-align: middle;\n",
       "    }\n",
       "\n",
       "    .dataframe tbody tr th {\n",
       "        vertical-align: top;\n",
       "    }\n",
       "\n",
       "    .dataframe thead th {\n",
       "        text-align: right;\n",
       "    }\n",
       "</style>\n",
       "<table border=\"1\" class=\"dataframe\">\n",
       "  <thead>\n",
       "    <tr style=\"text-align: right;\">\n",
       "      <th></th>\n",
       "      <th>coef_lr</th>\n",
       "    </tr>\n",
       "  </thead>\n",
       "  <tbody>\n",
       "    <tr>\n",
       "      <th>first</th>\n",
       "      <td>2.632438</td>\n",
       "    </tr>\n",
       "    <tr>\n",
       "      <th>full</th>\n",
       "      <td>2.086540</td>\n",
       "    </tr>\n",
       "    <tr>\n",
       "      <th>finish</th>\n",
       "      <td>1.754257</td>\n",
       "    </tr>\n",
       "    <tr>\n",
       "      <th>may</th>\n",
       "      <td>1.715405</td>\n",
       "    </tr>\n",
       "    <tr>\n",
       "      <th>chicago</th>\n",
       "      <td>1.681383</td>\n",
       "    </tr>\n",
       "    <tr>\n",
       "      <th>april</th>\n",
       "      <td>1.669439</td>\n",
       "    </tr>\n",
       "    <tr>\n",
       "      <th>miler</th>\n",
       "      <td>1.560223</td>\n",
       "    </tr>\n",
       "    <tr>\n",
       "      <th>finished</th>\n",
       "      <td>1.533050</td>\n",
       "    </tr>\n",
       "    <tr>\n",
       "      <th>training</th>\n",
       "      <td>1.516092</td>\n",
       "    </tr>\n",
       "    <tr>\n",
       "      <th>nyc</th>\n",
       "      <td>1.496177</td>\n",
       "    </tr>\n",
       "  </tbody>\n",
       "</table>\n",
       "</div>"
      ],
      "text/plain": [
       "           coef_lr\n",
       "first     2.632438\n",
       "full      2.086540\n",
       "finish    1.754257\n",
       "may       1.715405\n",
       "chicago   1.681383\n",
       "april     1.669439\n",
       "miler     1.560223\n",
       "finished  1.533050\n",
       "training  1.516092\n",
       "nyc       1.496177"
      ]
     },
     "execution_count": 154,
     "metadata": {},
     "output_type": "execute_result"
    },
    {
     "data": {
      "image/png": "[encoded data removed]",
      "text/plain": [
       "<Figure size 432x288 with 2 Axes>"
      ]
     },
     "metadata": {
      "needs_background": "light"
     },
     "output_type": "display_data"
    }
   ],
   "source": [
    "run_or_mar('cvec',cvec,'lr',lr,cvec_lr_params)"
   ]
  },
  {
   "cell_type": "markdown",
   "id": "a5e4b585-6f5d-46d6-aac6-ceea0cb76ba1",
   "metadata": {
    "tags": []
   },
   "source": [
    "#### TfidfVectorizer Logistic Regression "
   ]
  },
  {
   "cell_type": "code",
   "execution_count": 155,
   "id": "6311f26b-f18a-4282-adc9-b4c485e68952",
   "metadata": {
    "tags": []
   },
   "outputs": [
    {
     "data": {
      "text/plain": [
       "{'memory': None,\n",
       " 'steps': [('tvec', TfidfVectorizer()), ('lr', LogisticRegression())],\n",
       " 'verbose': False,\n",
       " 'tvec': TfidfVectorizer(),\n",
       " 'lr': LogisticRegression(),\n",
       " 'tvec__analyzer': 'word',\n",
       " 'tvec__binary': False,\n",
       " 'tvec__decode_error': 'strict',\n",
       " 'tvec__dtype': numpy.float64,\n",
       " 'tvec__encoding': 'utf-8',\n",
       " 'tvec__input': 'content',\n",
       " 'tvec__lowercase': True,\n",
       " 'tvec__max_df': 1.0,\n",
       " 'tvec__max_features': None,\n",
       " 'tvec__min_df': 1,\n",
       " 'tvec__ngram_range': (1, 1),\n",
       " 'tvec__norm': 'l2',\n",
       " 'tvec__preprocessor': None,\n",
       " 'tvec__smooth_idf': True,\n",
       " 'tvec__stop_words': None,\n",
       " 'tvec__strip_accents': None,\n",
       " 'tvec__sublinear_tf': False,\n",
       " 'tvec__token_pattern': '(?u)\\\\b\\\\w\\\\w+\\\\b',\n",
       " 'tvec__tokenizer': None,\n",
       " 'tvec__use_idf': True,\n",
       " 'tvec__vocabulary': None,\n",
       " 'lr__C': 1.0,\n",
       " 'lr__class_weight': None,\n",
       " 'lr__dual': False,\n",
       " 'lr__fit_intercept': True,\n",
       " 'lr__intercept_scaling': 1,\n",
       " 'lr__l1_ratio': None,\n",
       " 'lr__max_iter': 100,\n",
       " 'lr__multi_class': 'auto',\n",
       " 'lr__n_jobs': None,\n",
       " 'lr__penalty': 'l2',\n",
       " 'lr__random_state': None,\n",
       " 'lr__solver': 'lbfgs',\n",
       " 'lr__tol': 0.0001,\n",
       " 'lr__verbose': 0,\n",
       " 'lr__warm_start': False}"
      ]
     },
     "execution_count": 155,
     "metadata": {},
     "output_type": "execute_result"
    }
   ],
   "source": [
    "param_gen('tvec',tvec,'lr',lr)"
   ]
  },
  {
   "cell_type": "code",
   "execution_count": 156,
   "id": "980ce5a1-b265-4fe0-bea3-35ca92a2cc42",
   "metadata": {
    "tags": []
   },
   "outputs": [],
   "source": [
    "tvec_lr_params = {\n",
    "    'tvec__max_features': [5_000], #2_000, 3_000, 4_000, 5_000\n",
    "    'tvec__stop_words': [None], #[None, 'english']\n",
    "    'tvec__ngram_range': [(1,2)], #(1,1), (1,2). (1,3)\n",
    "    'lr__max_iter': [5000], #5000, 7000, 10000\n",
    "    'lr__C': [1.0] #0.1, 0.2, 0.5, 1.0\n",
    "}"
   ]
  },
  {
   "cell_type": "code",
   "execution_count": 157,
   "id": "5c2b4bfb-2e65-4f7d-8937-7465cd066db1",
   "metadata": {},
   "outputs": [
    {
     "name": "stdout",
     "output_type": "stream",
     "text": [
      "Pipeline(steps=[('tvec', TfidfVectorizer()), ('lr', LogisticRegression())])\n",
      "GridSearchCV(cv=5,\n",
      "             estimator=Pipeline(steps=[('tvec', TfidfVectorizer()),\n",
      "                                       ('lr', LogisticRegression())]),\n",
      "             param_grid={'lr__C': [1.0], 'lr__max_iter': [5000],\n",
      "                         'tvec__max_features': [5000],\n",
      "                         'tvec__ngram_range': [(1, 2)],\n",
      "                         'tvec__stop_words': [None]},\n",
      "             verbose=1)\n",
      "Fitting 5 folds for each of 1 candidates, totalling 5 fits\n",
      "Optimal parameters for tvec_lr are {'lr__C': 1.0, 'lr__max_iter': 5000, 'tvec__max_features': 5000, 'tvec__ngram_range': (1, 2), 'tvec__stop_words': None}.\n",
      "Best score for tvec_lr are 0.7888468983316436.\n",
      "Train score for tvec_lr is 0.8951245177130831.\n",
      "Test score for tvec_lr is 0.7741935483870968.\n",
      "Specificity: 0.7994350282485876\n",
      "Sensitivity: 0.7493036211699164\n"
     ]
    },
    {
     "data": {
      "text/html": [
       "<div>\n",
       "<style scoped>\n",
       "    .dataframe tbody tr th:only-of-type {\n",
       "        vertical-align: middle;\n",
       "    }\n",
       "\n",
       "    .dataframe tbody tr th {\n",
       "        vertical-align: top;\n",
       "    }\n",
       "\n",
       "    .dataframe thead th {\n",
       "        text-align: right;\n",
       "    }\n",
       "</style>\n",
       "<table border=\"1\" class=\"dataframe\">\n",
       "  <thead>\n",
       "    <tr style=\"text-align: right;\">\n",
       "      <th></th>\n",
       "      <th>coef_lr</th>\n",
       "    </tr>\n",
       "  </thead>\n",
       "  <tbody>\n",
       "    <tr>\n",
       "      <th>first</th>\n",
       "      <td>257.277448</td>\n",
       "    </tr>\n",
       "    <tr>\n",
       "      <th>training</th>\n",
       "      <td>55.146112</td>\n",
       "    </tr>\n",
       "    <tr>\n",
       "      <th>plan</th>\n",
       "      <td>13.974992</td>\n",
       "    </tr>\n",
       "    <tr>\n",
       "      <th>full</th>\n",
       "      <td>11.958030</td>\n",
       "    </tr>\n",
       "    <tr>\n",
       "      <th>finish</th>\n",
       "      <td>10.797855</td>\n",
       "    </tr>\n",
       "    <tr>\n",
       "      <th>week</th>\n",
       "      <td>8.242533</td>\n",
       "    </tr>\n",
       "    <tr>\n",
       "      <th>finished</th>\n",
       "      <td>6.218672</td>\n",
       "    </tr>\n",
       "    <tr>\n",
       "      <th>weekend</th>\n",
       "      <td>5.774158</td>\n",
       "    </tr>\n",
       "    <tr>\n",
       "      <th>chicago</th>\n",
       "      <td>5.662007</td>\n",
       "    </tr>\n",
       "    <tr>\n",
       "      <th>higdon</th>\n",
       "      <td>4.734381</td>\n",
       "    </tr>\n",
       "  </tbody>\n",
       "</table>\n",
       "</div>"
      ],
      "text/plain": [
       "             coef_lr\n",
       "first     257.277448\n",
       "training   55.146112\n",
       "plan       13.974992\n",
       "full       11.958030\n",
       "finish     10.797855\n",
       "week        8.242533\n",
       "finished    6.218672\n",
       "weekend     5.774158\n",
       "chicago     5.662007\n",
       "higdon      4.734381"
      ]
     },
     "execution_count": 157,
     "metadata": {},
     "output_type": "execute_result"
    },
    {
     "data": {
      "image/png": "[encoded data removed]",
      "text/plain": [
       "<Figure size 432x288 with 2 Axes>"
      ]
     },
     "metadata": {
      "needs_background": "light"
     },
     "output_type": "display_data"
    }
   ],
   "source": [
    "run_or_mar('tvec',tvec,'lr',lr,tvec_lr_params)"
   ]
  },
  {
   "cell_type": "markdown",
   "id": "4c3a4e2e-25dd-497f-85a5-5d27eacb32c8",
   "metadata": {},
   "source": [
    "#### CountVectorizer KNN"
   ]
  },
  {
   "cell_type": "code",
   "execution_count": 158,
   "id": "187bf5d4-375f-48dc-89eb-fd6a5a501a2e",
   "metadata": {
    "tags": []
   },
   "outputs": [
    {
     "data": {
      "text/plain": [
       "{'memory': None,\n",
       " 'steps': [('cvec', CountVectorizer()), ('knn', KNeighborsClassifier())],\n",
       " 'verbose': False,\n",
       " 'cvec': CountVectorizer(),\n",
       " 'knn': KNeighborsClassifier(),\n",
       " 'cvec__analyzer': 'word',\n",
       " 'cvec__binary': False,\n",
       " 'cvec__decode_error': 'strict',\n",
       " 'cvec__dtype': numpy.int64,\n",
       " 'cvec__encoding': 'utf-8',\n",
       " 'cvec__input': 'content',\n",
       " 'cvec__lowercase': True,\n",
       " 'cvec__max_df': 1.0,\n",
       " 'cvec__max_features': None,\n",
       " 'cvec__min_df': 1,\n",
       " 'cvec__ngram_range': (1, 1),\n",
       " 'cvec__preprocessor': None,\n",
       " 'cvec__stop_words': None,\n",
       " 'cvec__strip_accents': None,\n",
       " 'cvec__token_pattern': '(?u)\\\\b\\\\w\\\\w+\\\\b',\n",
       " 'cvec__tokenizer': None,\n",
       " 'cvec__vocabulary': None,\n",
       " 'knn__algorithm': 'auto',\n",
       " 'knn__leaf_size': 30,\n",
       " 'knn__metric': 'minkowski',\n",
       " 'knn__metric_params': None,\n",
       " 'knn__n_jobs': None,\n",
       " 'knn__n_neighbors': 5,\n",
       " 'knn__p': 2,\n",
       " 'knn__weights': 'uniform'}"
      ]
     },
     "execution_count": 158,
     "metadata": {},
     "output_type": "execute_result"
    }
   ],
   "source": [
    "param_gen('cvec',cvec,'knn',knn)"
   ]
  },
  {
   "cell_type": "code",
   "execution_count": 159,
   "id": "bd7da739-7d5b-458f-babf-4f354124a47e",
   "metadata": {},
   "outputs": [],
   "source": [
    "cvec_knn_params = {\n",
    "    'cvec__max_features': [2_000], #[2_000, 3_000, 4_000, 5_000]\n",
    "    'cvec__min_df':  [2], #[2, 3]\n",
    "    'cvec__max_df':[.9], #[.9, .95]\n",
    "    'cvec__ngram_range': [(1,2)], #(1,1), (1,2)\n",
    "    'knn__leaf_size': [10] #[10,20,30,40]\n",
    "}"
   ]
  },
  {
   "cell_type": "code",
   "execution_count": 160,
   "id": "d1590cf1-ea3a-47b3-b70d-dc0ad23b4a8f",
   "metadata": {},
   "outputs": [
    {
     "name": "stdout",
     "output_type": "stream",
     "text": [
      "Pipeline(steps=[('cvec', CountVectorizer()), ('knn', KNeighborsClassifier())])\n",
      "GridSearchCV(cv=5,\n",
      "             estimator=Pipeline(steps=[('cvec', CountVectorizer()),\n",
      "                                       ('knn', KNeighborsClassifier())]),\n",
      "             param_grid={'cvec__max_df': [0.9], 'cvec__max_features': [2000],\n",
      "                         'cvec__min_df': [2], 'cvec__ngram_range': [(1, 2)],\n",
      "                         'knn__leaf_size': [10]},\n",
      "             verbose=1)\n",
      "Fitting 5 folds for each of 1 candidates, totalling 5 fits\n",
      "Optimal parameters for cvec_knn are {'cvec__max_df': 0.9, 'cvec__max_features': 2000, 'cvec__min_df': 2, 'cvec__ngram_range': (1, 2), 'knn__leaf_size': 10}.\n",
      "Best score for cvec_knn are 0.6271551909546194.\n",
      "Train score for cvec_knn is 0.7460540161346896.\n",
      "Test score for cvec_knn is 0.6199158485273493.\n",
      "Specificity: 0.3418079096045198\n",
      "Sensitivity: 0.8941504178272981\n"
     ]
    },
    {
     "data": {
      "image/png": "[encoded data removed]",
      "text/plain": [
       "<Figure size 432x288 with 2 Axes>"
      ]
     },
     "metadata": {
      "needs_background": "light"
     },
     "output_type": "display_data"
    }
   ],
   "source": [
    "run_or_mar('cvec',cvec,'knn',knn,cvec_knn_params)"
   ]
  },
  {
   "cell_type": "markdown",
   "id": "bf8e8f1b-42ef-4039-9a22-b542cb2d2732",
   "metadata": {},
   "source": [
    "#### TfidfVectorizer KNN"
   ]
  },
  {
   "cell_type": "code",
   "execution_count": 161,
   "id": "a4d95a2b-424e-4864-9ecd-ae170859ab8e",
   "metadata": {
    "tags": []
   },
   "outputs": [
    {
     "data": {
      "text/plain": [
       "{'memory': None,\n",
       " 'steps': [('tvec', TfidfVectorizer()), ('knn', KNeighborsClassifier())],\n",
       " 'verbose': False,\n",
       " 'tvec': TfidfVectorizer(),\n",
       " 'knn': KNeighborsClassifier(),\n",
       " 'tvec__analyzer': 'word',\n",
       " 'tvec__binary': False,\n",
       " 'tvec__decode_error': 'strict',\n",
       " 'tvec__dtype': numpy.float64,\n",
       " 'tvec__encoding': 'utf-8',\n",
       " 'tvec__input': 'content',\n",
       " 'tvec__lowercase': True,\n",
       " 'tvec__max_df': 1.0,\n",
       " 'tvec__max_features': None,\n",
       " 'tvec__min_df': 1,\n",
       " 'tvec__ngram_range': (1, 1),\n",
       " 'tvec__norm': 'l2',\n",
       " 'tvec__preprocessor': None,\n",
       " 'tvec__smooth_idf': True,\n",
       " 'tvec__stop_words': None,\n",
       " 'tvec__strip_accents': None,\n",
       " 'tvec__sublinear_tf': False,\n",
       " 'tvec__token_pattern': '(?u)\\\\b\\\\w\\\\w+\\\\b',\n",
       " 'tvec__tokenizer': None,\n",
       " 'tvec__use_idf': True,\n",
       " 'tvec__vocabulary': None,\n",
       " 'knn__algorithm': 'auto',\n",
       " 'knn__leaf_size': 30,\n",
       " 'knn__metric': 'minkowski',\n",
       " 'knn__metric_params': None,\n",
       " 'knn__n_jobs': None,\n",
       " 'knn__n_neighbors': 5,\n",
       " 'knn__p': 2,\n",
       " 'knn__weights': 'uniform'}"
      ]
     },
     "execution_count": 161,
     "metadata": {},
     "output_type": "execute_result"
    }
   ],
   "source": [
    "param_gen('tvec',tvec,'knn',knn)"
   ]
  },
  {
   "cell_type": "code",
   "execution_count": 162,
   "id": "fa3d13cc-b326-425c-9f96-4fca6e5af92f",
   "metadata": {},
   "outputs": [],
   "source": [
    "tvec_knn_params = {\n",
    "    'tvec__max_features': [2_000], #[2_000, 3_000, 4_000, 5_000]\n",
    "    'tvec__stop_words': [None, 'english'],\n",
    "    'tvec__ngram_range': [(1,2)], #[(1,1), (1,2)]\n",
    "    'knn__leaf_size': [2] #[2,3,5,10,20,30]\n",
    "}"
   ]
  },
  {
   "cell_type": "code",
   "execution_count": 163,
   "id": "af1e1a64-5396-40d0-a86e-b4dd300b622e",
   "metadata": {},
   "outputs": [
    {
     "name": "stdout",
     "output_type": "stream",
     "text": [
      "Pipeline(steps=[('tvec', TfidfVectorizer()), ('knn', KNeighborsClassifier())])\n",
      "GridSearchCV(cv=5,\n",
      "             estimator=Pipeline(steps=[('tvec', TfidfVectorizer()),\n",
      "                                       ('knn', KNeighborsClassifier())]),\n",
      "             param_grid={'knn__leaf_size': [2], 'tvec__max_features': [2000],\n",
      "                         'tvec__ngram_range': [(1, 2)],\n",
      "                         'tvec__stop_words': [None, 'english']},\n",
      "             verbose=1)\n",
      "Fitting 5 folds for each of 2 candidates, totalling 10 fits\n",
      "Optimal parameters for tvec_knn are {'knn__leaf_size': 2, 'tvec__max_features': 2000, 'tvec__ngram_range': (1, 2), 'tvec__stop_words': None}.\n",
      "Best score for tvec_knn are 0.5454247703321351.\n",
      "Train score for tvec_knn is 0.6762539459838653.\n",
      "Test score for tvec_knn is 0.5385694249649369.\n",
      "Specificity: 0.2570621468926554\n",
      "Sensitivity: 0.8161559888579387\n"
     ]
    },
    {
     "data": {
      "image/png": "[encoded data removed]",
      "text/plain": [
       "<Figure size 432x288 with 2 Axes>"
      ]
     },
     "metadata": {
      "needs_background": "light"
     },
     "output_type": "display_data"
    }
   ],
   "source": [
    "run_or_mar('tvec',tvec,'knn',knn,tvec_knn_params)"
   ]
  },
  {
   "cell_type": "markdown",
   "id": "3747a4d3-a715-4643-821b-d359158a6786",
   "metadata": {},
   "source": [
    "#### CountVectorizer Bagging"
   ]
  },
  {
   "cell_type": "code",
   "execution_count": 164,
   "id": "76fb715f-fb97-4690-9a65-81f991b512eb",
   "metadata": {
    "tags": []
   },
   "outputs": [
    {
     "data": {
      "text/plain": [
       "{'memory': None,\n",
       " 'steps': [('cvec', CountVectorizer()), ('bg', BaggingClassifier())],\n",
       " 'verbose': False,\n",
       " 'cvec': CountVectorizer(),\n",
       " 'bg': BaggingClassifier(),\n",
       " 'cvec__analyzer': 'word',\n",
       " 'cvec__binary': False,\n",
       " 'cvec__decode_error': 'strict',\n",
       " 'cvec__dtype': numpy.int64,\n",
       " 'cvec__encoding': 'utf-8',\n",
       " 'cvec__input': 'content',\n",
       " 'cvec__lowercase': True,\n",
       " 'cvec__max_df': 1.0,\n",
       " 'cvec__max_features': None,\n",
       " 'cvec__min_df': 1,\n",
       " 'cvec__ngram_range': (1, 1),\n",
       " 'cvec__preprocessor': None,\n",
       " 'cvec__stop_words': None,\n",
       " 'cvec__strip_accents': None,\n",
       " 'cvec__token_pattern': '(?u)\\\\b\\\\w\\\\w+\\\\b',\n",
       " 'cvec__tokenizer': None,\n",
       " 'cvec__vocabulary': None,\n",
       " 'bg__base_estimator': None,\n",
       " 'bg__bootstrap': True,\n",
       " 'bg__bootstrap_features': False,\n",
       " 'bg__max_features': 1.0,\n",
       " 'bg__max_samples': 1.0,\n",
       " 'bg__n_estimators': 10,\n",
       " 'bg__n_jobs': None,\n",
       " 'bg__oob_score': False,\n",
       " 'bg__random_state': None,\n",
       " 'bg__verbose': 0,\n",
       " 'bg__warm_start': False}"
      ]
     },
     "execution_count": 164,
     "metadata": {},
     "output_type": "execute_result"
    }
   ],
   "source": [
    "param_gen('cvec',cvec,'bg',bg)"
   ]
  },
  {
   "cell_type": "code",
   "execution_count": 165,
   "id": "f7487ac7-9863-460c-b326-d8a1c08add0f",
   "metadata": {},
   "outputs": [],
   "source": [
    "cvec_bg_params = {\n",
    "    'cvec__max_features': [5_000], #[2_000, 3_000, 4_000, 5_000]\n",
    "    'cvec__min_df':  [2], #2, 3\n",
    "    'cvec__max_df':[.9], #.9, .95\n",
    "    'cvec__ngram_range': [(1,2)], #(1,2), (1,1)\n",
    "    'bg__n_estimators': [10], #[5, 10, 15]\n",
    "    'bg__n_jobs': [-1]\n",
    "\n",
    "}"
   ]
  },
  {
   "cell_type": "code",
   "execution_count": 166,
   "id": "92d8ad15-5845-4565-8fba-b0ae63101495",
   "metadata": {},
   "outputs": [
    {
     "name": "stdout",
     "output_type": "stream",
     "text": [
      "Pipeline(steps=[('cvec', CountVectorizer()), ('bg', BaggingClassifier())])\n",
      "GridSearchCV(cv=5,\n",
      "             estimator=Pipeline(steps=[('cvec', CountVectorizer()),\n",
      "                                       ('bg', BaggingClassifier())]),\n",
      "             param_grid={'bg__n_estimators': [10], 'bg__n_jobs': [-1],\n",
      "                         'cvec__max_df': [0.9], 'cvec__max_features': [5000],\n",
      "                         'cvec__min_df': [2], 'cvec__ngram_range': [(1, 2)]},\n",
      "             verbose=1)\n",
      "Fitting 5 folds for each of 1 candidates, totalling 5 fits\n",
      "Optimal parameters for cvec_bg are {'bg__n_estimators': 10, 'bg__n_jobs': -1, 'cvec__max_df': 0.9, 'cvec__max_features': 5000, 'cvec__min_df': 2, 'cvec__ngram_range': (1, 2)}.\n",
      "Best score for cvec_bg are 0.7323839370756138.\n",
      "Train score for cvec_bg is 0.9817607856892319.\n",
      "Test score for cvec_bg is 0.7068723702664796.\n",
      "Specificity: 0.7005649717514124\n",
      "Sensitivity: 0.713091922005571\n"
     ]
    },
    {
     "data": {
      "image/png": "[encoded data removed]",
      "text/plain": [
       "<Figure size 432x288 with 2 Axes>"
      ]
     },
     "metadata": {
      "needs_background": "light"
     },
     "output_type": "display_data"
    }
   ],
   "source": [
    "run_or_mar('cvec',cvec,'bg',bg,cvec_bg_params)"
   ]
  },
  {
   "cell_type": "markdown",
   "id": "42f15c3c-4154-4cbb-bf2f-7217bc1a0af8",
   "metadata": {},
   "source": [
    "#### CountVectorizer Random Forest"
   ]
  },
  {
   "cell_type": "code",
   "execution_count": 167,
   "id": "7c72544e-f910-4d89-8ec2-f614f7991443",
   "metadata": {
    "tags": []
   },
   "outputs": [
    {
     "data": {
      "text/plain": [
       "{'memory': None,\n",
       " 'steps': [('cvec', CountVectorizer()), ('rf', RandomForestClassifier())],\n",
       " 'verbose': False,\n",
       " 'cvec': CountVectorizer(),\n",
       " 'rf': RandomForestClassifier(),\n",
       " 'cvec__analyzer': 'word',\n",
       " 'cvec__binary': False,\n",
       " 'cvec__decode_error': 'strict',\n",
       " 'cvec__dtype': numpy.int64,\n",
       " 'cvec__encoding': 'utf-8',\n",
       " 'cvec__input': 'content',\n",
       " 'cvec__lowercase': True,\n",
       " 'cvec__max_df': 1.0,\n",
       " 'cvec__max_features': None,\n",
       " 'cvec__min_df': 1,\n",
       " 'cvec__ngram_range': (1, 1),\n",
       " 'cvec__preprocessor': None,\n",
       " 'cvec__stop_words': None,\n",
       " 'cvec__strip_accents': None,\n",
       " 'cvec__token_pattern': '(?u)\\\\b\\\\w\\\\w+\\\\b',\n",
       " 'cvec__tokenizer': None,\n",
       " 'cvec__vocabulary': None,\n",
       " 'rf__bootstrap': True,\n",
       " 'rf__ccp_alpha': 0.0,\n",
       " 'rf__class_weight': None,\n",
       " 'rf__criterion': 'gini',\n",
       " 'rf__max_depth': None,\n",
       " 'rf__max_features': 'auto',\n",
       " 'rf__max_leaf_nodes': None,\n",
       " 'rf__max_samples': None,\n",
       " 'rf__min_impurity_decrease': 0.0,\n",
       " 'rf__min_samples_leaf': 1,\n",
       " 'rf__min_samples_split': 2,\n",
       " 'rf__min_weight_fraction_leaf': 0.0,\n",
       " 'rf__n_estimators': 100,\n",
       " 'rf__n_jobs': None,\n",
       " 'rf__oob_score': False,\n",
       " 'rf__random_state': None,\n",
       " 'rf__verbose': 0,\n",
       " 'rf__warm_start': False}"
      ]
     },
     "execution_count": 167,
     "metadata": {},
     "output_type": "execute_result"
    }
   ],
   "source": [
    "param_gen('cvec',cvec,'rf',rf)"
   ]
  },
  {
   "cell_type": "code",
   "execution_count": 168,
   "id": "c72d000f-ecaa-4248-bfc5-27223300fb3f",
   "metadata": {
    "jupyter": {
     "source_hidden": true
    },
    "tags": []
   },
   "outputs": [],
   "source": [
    "cvec_rf_params = {\n",
    "    'cvec__max_features': [4_000], #[2_000, 3_000, 4_000, 5_000]\n",
    "    'cvec__min_df':  [3], #2, 3\n",
    "    'cvec__max_df':[.9], #.9, .95\n",
    "    'cvec__ngram_range': [(1,1),(1,2)], #(1,2), (1,1)\n",
    "    'rf__n_estimators': [300], #[100, 200, 300]\n",
    "    'rf__max_depth': [5], #[3,4,5]\n",
    "    'rf__n_jobs': [-1]\n",
    "}"
   ]
  },
  {
   "cell_type": "code",
   "execution_count": 169,
   "id": "7e5fc312-6d3d-4e0d-82a2-2ba1cbb47921",
   "metadata": {},
   "outputs": [
    {
     "name": "stdout",
     "output_type": "stream",
     "text": [
      "Pipeline(steps=[('cvec', CountVectorizer()), ('rf', RandomForestClassifier())])\n",
      "GridSearchCV(cv=5,\n",
      "             estimator=Pipeline(steps=[('cvec', CountVectorizer()),\n",
      "                                       ('rf', RandomForestClassifier())]),\n",
      "             param_grid={'cvec__max_df': [0.9], 'cvec__max_features': [4000],\n",
      "                         'cvec__min_df': [3],\n",
      "                         'cvec__ngram_range': [(1, 1), (1, 2)],\n",
      "                         'rf__max_depth': [5], 'rf__n_estimators': [300],\n",
      "                         'rf__n_jobs': [-1]},\n",
      "             verbose=1)\n",
      "Fitting 5 folds for each of 2 candidates, totalling 10 fits\n",
      "Optimal parameters for cvec_rf are {'cvec__max_df': 0.9, 'cvec__max_features': 4000, 'cvec__min_df': 3, 'cvec__ngram_range': (1, 1), 'rf__max_depth': 5, 'rf__n_estimators': 300, 'rf__n_jobs': -1}.\n",
      "Best score for cvec_rf are 0.7544603189234029.\n",
      "Train score for cvec_rf is 0.791301297790249.\n",
      "Test score for cvec_rf is 0.726507713884993.\n",
      "Specificity: 0.7627118644067796\n",
      "Sensitivity: 0.6908077994428969\n"
     ]
    },
    {
     "data": {
      "text/html": [
       "<div>\n",
       "<style scoped>\n",
       "    .dataframe tbody tr th:only-of-type {\n",
       "        vertical-align: middle;\n",
       "    }\n",
       "\n",
       "    .dataframe tbody tr th {\n",
       "        vertical-align: top;\n",
       "    }\n",
       "\n",
       "    .dataframe thead th {\n",
       "        text-align: right;\n",
       "    }\n",
       "</style>\n",
       "<table border=\"1\" class=\"dataframe\">\n",
       "  <thead>\n",
       "    <tr style=\"text-align: right;\">\n",
       "      <th></th>\n",
       "      <th>coef_rf</th>\n",
       "    </tr>\n",
       "  </thead>\n",
       "  <tbody>\n",
       "    <tr>\n",
       "      <th>training</th>\n",
       "      <td>0.059287</td>\n",
       "    </tr>\n",
       "    <tr>\n",
       "      <th>first</th>\n",
       "      <td>0.045742</td>\n",
       "    </tr>\n",
       "    <tr>\n",
       "      <th>week</th>\n",
       "      <td>0.022729</td>\n",
       "    </tr>\n",
       "    <tr>\n",
       "      <th>finish</th>\n",
       "      <td>0.022172</td>\n",
       "    </tr>\n",
       "    <tr>\n",
       "      <th>plan</th>\n",
       "      <td>0.021857</td>\n",
       "    </tr>\n",
       "    <tr>\n",
       "      <th>novice</th>\n",
       "      <td>0.021753</td>\n",
       "    </tr>\n",
       "    <tr>\n",
       "      <th>full</th>\n",
       "      <td>0.018913</td>\n",
       "    </tr>\n",
       "    <tr>\n",
       "      <th>hal</th>\n",
       "      <td>0.018738</td>\n",
       "    </tr>\n",
       "    <tr>\n",
       "      <th>higdon</th>\n",
       "      <td>0.015178</td>\n",
       "    </tr>\n",
       "    <tr>\n",
       "      <th>runner</th>\n",
       "      <td>0.015008</td>\n",
       "    </tr>\n",
       "  </tbody>\n",
       "</table>\n",
       "</div>"
      ],
      "text/plain": [
       "           coef_rf\n",
       "training  0.059287\n",
       "first     0.045742\n",
       "week      0.022729\n",
       "finish    0.022172\n",
       "plan      0.021857\n",
       "novice    0.021753\n",
       "full      0.018913\n",
       "hal       0.018738\n",
       "higdon    0.015178\n",
       "runner    0.015008"
      ]
     },
     "execution_count": 169,
     "metadata": {},
     "output_type": "execute_result"
    },
    {
     "data": {
      "image/png": "[encoded data removed]",
      "text/plain": [
       "<Figure size 432x288 with 2 Axes>"
      ]
     },
     "metadata": {
      "needs_background": "light"
     },
     "output_type": "display_data"
    }
   ],
   "source": [
    "run_or_mar('cvec',cvec,'rf',rf,cvec_rf_params)"
   ]
  },
  {
   "cell_type": "markdown",
   "id": "886388da-fe18-433a-9bc2-c904545d75d2",
   "metadata": {},
   "source": [
    "#### TfidfVectorizer Random Forest"
   ]
  },
  {
   "cell_type": "code",
   "execution_count": 170,
   "id": "9407ef05-3677-4fa4-8217-5b1bb7d1349f",
   "metadata": {
    "tags": []
   },
   "outputs": [
    {
     "data": {
      "text/plain": [
       "{'memory': None,\n",
       " 'steps': [('tvec', TfidfVectorizer()), ('rf', RandomForestClassifier())],\n",
       " 'verbose': False,\n",
       " 'tvec': TfidfVectorizer(),\n",
       " 'rf': RandomForestClassifier(),\n",
       " 'tvec__analyzer': 'word',\n",
       " 'tvec__binary': False,\n",
       " 'tvec__decode_error': 'strict',\n",
       " 'tvec__dtype': numpy.float64,\n",
       " 'tvec__encoding': 'utf-8',\n",
       " 'tvec__input': 'content',\n",
       " 'tvec__lowercase': True,\n",
       " 'tvec__max_df': 1.0,\n",
       " 'tvec__max_features': None,\n",
       " 'tvec__min_df': 1,\n",
       " 'tvec__ngram_range': (1, 1),\n",
       " 'tvec__norm': 'l2',\n",
       " 'tvec__preprocessor': None,\n",
       " 'tvec__smooth_idf': True,\n",
       " 'tvec__stop_words': None,\n",
       " 'tvec__strip_accents': None,\n",
       " 'tvec__sublinear_tf': False,\n",
       " 'tvec__token_pattern': '(?u)\\\\b\\\\w\\\\w+\\\\b',\n",
       " 'tvec__tokenizer': None,\n",
       " 'tvec__use_idf': True,\n",
       " 'tvec__vocabulary': None,\n",
       " 'rf__bootstrap': True,\n",
       " 'rf__ccp_alpha': 0.0,\n",
       " 'rf__class_weight': None,\n",
       " 'rf__criterion': 'gini',\n",
       " 'rf__max_depth': None,\n",
       " 'rf__max_features': 'auto',\n",
       " 'rf__max_leaf_nodes': None,\n",
       " 'rf__max_samples': None,\n",
       " 'rf__min_impurity_decrease': 0.0,\n",
       " 'rf__min_samples_leaf': 1,\n",
       " 'rf__min_samples_split': 2,\n",
       " 'rf__min_weight_fraction_leaf': 0.0,\n",
       " 'rf__n_estimators': 100,\n",
       " 'rf__n_jobs': None,\n",
       " 'rf__oob_score': False,\n",
       " 'rf__random_state': None,\n",
       " 'rf__verbose': 0,\n",
       " 'rf__warm_start': False}"
      ]
     },
     "execution_count": 170,
     "metadata": {},
     "output_type": "execute_result"
    }
   ],
   "source": [
    "param_gen(\"tvec\",tvec,\"rf\",rf)"
   ]
  },
  {
   "cell_type": "code",
   "execution_count": 171,
   "id": "c6fca2e2-ffa6-4af4-baf6-184fb449c62f",
   "metadata": {
    "tags": []
   },
   "outputs": [],
   "source": [
    "tvec_rf_params = {\n",
    "    'tvec__max_features': [4_000], #[2_000, 3_000, 4_000, 5_000]\n",
    "    'tvec__stop_words': [None], #[None, 'english']\n",
    "    'tvec__ngram_range': [(1,2)], #[(1,1), (1,2)]\n",
    "    'rf__n_estimators': [300], #[100, 200, 300]\n",
    "    'rf__max_depth': [5], #[3,4,5]\n",
    "    'rf__n_jobs': [-1]\n",
    "}"
   ]
  },
  {
   "cell_type": "code",
   "execution_count": 172,
   "id": "b48c6b4f-13ec-498a-a533-14b734db6cd5",
   "metadata": {},
   "outputs": [
    {
     "name": "stdout",
     "output_type": "stream",
     "text": [
      "Pipeline(steps=[('tvec', TfidfVectorizer()), ('rf', RandomForestClassifier())])\n",
      "GridSearchCV(cv=5,\n",
      "             estimator=Pipeline(steps=[('tvec', TfidfVectorizer()),\n",
      "                                       ('rf', RandomForestClassifier())]),\n",
      "             param_grid={'rf__max_depth': [5], 'rf__n_estimators': [300],\n",
      "                         'rf__n_jobs': [-1], 'tvec__max_features': [4000],\n",
      "                         'tvec__ngram_range': [(1, 2)],\n",
      "                         'tvec__stop_words': [None]},\n",
      "             verbose=1)\n",
      "Fitting 5 folds for each of 1 candidates, totalling 5 fits\n",
      "Optimal parameters for tvec_rf are {'rf__max_depth': 5, 'rf__n_estimators': 300, 'rf__n_jobs': -1, 'tvec__max_features': 4000, 'tvec__ngram_range': (1, 2), 'tvec__stop_words': None}.\n",
      "Best score for tvec_rf are 0.7544646203951209.\n",
      "Train score for tvec_rf is 0.7969133637320238.\n",
      "Test score for tvec_rf is 0.7152875175315568.\n",
      "Specificity: 0.7909604519774012\n",
      "Sensitivity: 0.6406685236768802\n"
     ]
    },
    {
     "data": {
      "text/html": [
       "<div>\n",
       "<style scoped>\n",
       "    .dataframe tbody tr th:only-of-type {\n",
       "        vertical-align: middle;\n",
       "    }\n",
       "\n",
       "    .dataframe tbody tr th {\n",
       "        vertical-align: top;\n",
       "    }\n",
       "\n",
       "    .dataframe thead th {\n",
       "        text-align: right;\n",
       "    }\n",
       "</style>\n",
       "<table border=\"1\" class=\"dataframe\">\n",
       "  <thead>\n",
       "    <tr style=\"text-align: right;\">\n",
       "      <th></th>\n",
       "      <th>coef_rf</th>\n",
       "    </tr>\n",
       "  </thead>\n",
       "  <tbody>\n",
       "    <tr>\n",
       "      <th>first</th>\n",
       "      <td>0.048621</td>\n",
       "    </tr>\n",
       "    <tr>\n",
       "      <th>higdon</th>\n",
       "      <td>0.036567</td>\n",
       "    </tr>\n",
       "    <tr>\n",
       "      <th>training</th>\n",
       "      <td>0.032428</td>\n",
       "    </tr>\n",
       "    <tr>\n",
       "      <th>plan</th>\n",
       "      <td>0.029094</td>\n",
       "    </tr>\n",
       "    <tr>\n",
       "      <th>hal</th>\n",
       "      <td>0.025594</td>\n",
       "    </tr>\n",
       "    <tr>\n",
       "      <th>finish</th>\n",
       "      <td>0.025454</td>\n",
       "    </tr>\n",
       "    <tr>\n",
       "      <th>full</th>\n",
       "      <td>0.019415</td>\n",
       "    </tr>\n",
       "    <tr>\n",
       "      <th>novice</th>\n",
       "      <td>0.019004</td>\n",
       "    </tr>\n",
       "    <tr>\n",
       "      <th>training plan</th>\n",
       "      <td>0.017796</td>\n",
       "    </tr>\n",
       "    <tr>\n",
       "      <th>hal higdon</th>\n",
       "      <td>0.016827</td>\n",
       "    </tr>\n",
       "  </tbody>\n",
       "</table>\n",
       "</div>"
      ],
      "text/plain": [
       "                coef_rf\n",
       "first          0.048621\n",
       "higdon         0.036567\n",
       "training       0.032428\n",
       "plan           0.029094\n",
       "hal            0.025594\n",
       "finish         0.025454\n",
       "full           0.019415\n",
       "novice         0.019004\n",
       "training plan  0.017796\n",
       "hal higdon     0.016827"
      ]
     },
     "execution_count": 172,
     "metadata": {},
     "output_type": "execute_result"
    },
    {
     "data": {
      "image/png": "[encoded data removed]",
      "text/plain": [
       "<Figure size 432x288 with 2 Axes>"
      ]
     },
     "metadata": {
      "needs_background": "light"
     },
     "output_type": "display_data"
    }
   ],
   "source": [
    "run_or_mar(\"tvec\",tvec,\"rf\",rf,tvec_rf_params)"
   ]
  },
  {
   "cell_type": "markdown",
   "id": "266da190-cac6-4340-99d6-27101c176e6f",
   "metadata": {},
   "source": [
    "#### Baseline Model"
   ]
  },
  {
   "cell_type": "code",
   "execution_count": 173,
   "id": "2fec2e77-4bb8-4757-a2d5-e226d2fd89d1",
   "metadata": {
    "tags": []
   },
   "outputs": [
    {
     "data": {
      "text/plain": [
       "1    0.503367\n",
       "0    0.496633\n",
       "Name: subreddit, dtype: float64"
      ]
     },
     "execution_count": 173,
     "metadata": {},
     "output_type": "execute_result"
    }
   ],
   "source": [
    "# Construct a baseline model for comparison\n",
    "\n",
    "y.value_counts(normalize = True)"
   ]
  },
  {
   "cell_type": "code",
   "execution_count": 174,
   "id": "c62fc32f-7d94-411e-89a4-05b2bcd17f1e",
   "metadata": {},
   "outputs": [
    {
     "name": "stdout",
     "output_type": "stream",
     "text": [
      "Accuracy: 0.5035063113604488\n",
      "Specificity: 0.0\n",
      "Sensitivity: 1.0\n"
     ]
    },
    {
     "data": {
      "text/plain": [
       "Text(0.5, 1.0, 'Confusion Matrix Baseline Model')"
      ]
     },
     "execution_count": 174,
     "metadata": {},
     "output_type": "execute_result"
    },
    {
     "data": {
      "image/png": "[encoded data removed]",
      "text/plain": [
       "<Figure size 432x288 with 2 Axes>"
      ]
     },
     "metadata": {
      "needs_background": "light"
     },
     "output_type": "display_data"
    }
   ],
   "source": [
    "# all preds are \"marathon\" as it has higher count\n",
    "preds = [1]*len(y_test)\n",
    "    \n",
    "tn, fp, fn, tp = confusion_matrix(y_test, preds).ravel()\n",
    "cm = confusion_matrix(y_test, preds)\n",
    "    \n",
    "accr = (tn+tp)/(tn+tp+fn+fp)\n",
    "spec = tn / (tn + fp)\n",
    "sens = tp / (tp + fn)\n",
    "\n",
    "print('Accuracy:', accr)\n",
    "print('Specificity:', spec)\n",
    "print('Sensitivity:', sens)\n",
    "    \n",
    "disp = ConfusionMatrixDisplay(cm)\n",
    "disp.plot(cmap=\"hot\")\n",
    "plt.title(\"Confusion Matrix Baseline Model\")"
   ]
  },
  {
   "cell_type": "markdown",
   "id": "aa57c1fa-f756-437f-a06f-186ce234a66e",
   "metadata": {},
   "source": [
    "In the baseline model, we will classify all post as \"marathon\" represented by \"1\" since it has a higher count. The baseline model has a accuracy of 50.3%, as expected since 50.3% of the post are from the \"marathon\" subbreddit."
   ]
  },
  {
   "cell_type": "markdown",
   "id": "3fea1367-9acb-49c1-9ace-d53d944e84d9",
   "metadata": {
    "tags": []
   },
   "source": [
    "## Model Evaluation\n"
   ]
  },
  {
   "cell_type": "markdown",
   "id": "ac9ff803-be4f-41f2-8034-4e7a286550fc",
   "metadata": {},
   "source": [
    "|    |   **Vectorizer** |      **Classifier** | **Train** | **Test** | **Train-Test** | **Best Score** | **Specificity** | **Sensitivity** |\n",
    "|---:|-----------------:|--------------------:|-----------|----------|----------------|----------------|-----------------|-----------------|\n",
    "| 1  | Baseline         | Baseline            | NA        | NA       | NA             | 0.503          | 0.0              | 1.0              |\n",
    "| 2  | Count Vectorizer | Naive Bayers        | 0.859     | 0.763    | 0.096          | **0.802**      | 0.771           | 0.755           |\n",
    "| 3  | Tfidf Vectorizer | Naive Bayers        | 0.879     | 0.762    | 0.117          | 0.795          | 0.749           | 0.774           |\n",
    "| 4  | Count Vectorizer | Logistic Regression | 0.920     | 0.767    | 0.153          | 0.789          | 0.740           | 0.794           |\n",
    "| 5  | Tfidf Vectorizer | Logistic Regression | 0.895     | 0.774    | 0.121          | 0.789          | **0.799**       | 0.749           |\n",
    "| 6  | Count Vectorizer | K Nearest Neighbor  | 0.746     | 0.620    | 0.126          | 0.627          | 0.342           | **0.894**       |\n",
    "| 7  | Tfidf Vectorizer | K Nearest Neighbor  | 0.676     | 0.539    | 0.137          | 0.545          | 0.257           | 0.816           |\n",
    "| 8  | Count Vectorizer | Bagging             | 0.980     | 0.718    | 0.262          | 0.732          | 0.698           | 0.738           |\n",
    "| 9  | Count Vectorizer | Random Forest       | 0.791     | 0.727    | **0.064**      | 0.754          | 0.777           | 0.652           |\n",
    "| 10 | Tfidf Vectorizer | Random Forest       | 0.797     | 0.715    | 0.082          | 0.754          | 0.790           | 0.643           |"
   ]
  },
  {
   "cell_type": "markdown",
   "id": "982e9bf9-c78b-49e9-b808-777215f1b9dc",
   "metadata": {},
   "source": [
    "<img src=\"./images/dsi30_cm_compare.jpg\" />"
   ]
  },
  {
   "cell_type": "markdown",
   "id": "c002adce-66b5-4ee4-bc9e-ca74ebb2e03c",
   "metadata": {},
   "source": [
    "With reference to the table above that compares the baseline model with all the other classification models constructed, model 2 (CountVectorizer Naive Bayers) is our model of choice since it acheived the highest accuracy score of 0.802 while maintaining a small overfitting problem relative to the other models.\n",
    "\n",
    "While model 9 (CountVectorizer Random Forest) does not overfit as much compared to our choice model, it does not score as well in terms of accuracy and the model tends to lean towards classifying \"0\" or \"running\" as reflected by the lower sensitivity score. The weakness of model 9 is also highlighted by the red box in the confusion matrix which shows a disporportionate high number of false negatives.\n",
    "\n",
    "When compared to the baseline model, we also observe a good improvement in terms of the accuracy score from 0.503 for the baseline and 0.802 for our choice model. This further justifies that our model will be useful in helping classify marathon and general running contents."
   ]
  },
  {
   "cell_type": "markdown",
   "id": "edc714e2-9857-40f0-a281-7e6bd3310aef",
   "metadata": {},
   "source": [
    "## Conclusion and Recommendations"
   ]
  },
  {
   "cell_type": "markdown",
   "id": "41262100-65b7-4fca-83e1-43d4e9ecd8b8",
   "metadata": {},
   "source": [
    "In conclusion, after fitting our data into nine different models and tuning their parameters, we will recommend the management of Running Lab to adopt Model 2 (CountVectorizer Naive Bayers) as the classifier model for classifying marathon content and running content base on the overall performance of the model.\n"
   ]
  },
  {
   "cell_type": "markdown",
   "id": "3f5cca7c-88a3-4ea4-8ebe-b07ad8b5975c",
   "metadata": {},
   "source": [
    "<img src=\"./images/coef_compare_high.jpg\" width=600 height=600/>"
   ]
  },
  {
   "cell_type": "markdown",
   "id": "b285b30f-cb5e-4d8c-9439-2a50a83c5104",
   "metadata": {},
   "source": [
    "We also observe the consistent appearance of Hal Higdon in as meaningful words used by the various models experimented, including our choice model. It suggest that many first time marathoners seems to be keen on following his training programs or at least, have queries and discussions about them. Running Lab may want to look into the training plans and running content provided on Hal Higdon's website so gain insight on what product and services might iterest the marathoners.\n",
    "\n",
    "Running lab may also want to explore the possibility of co-branding possibilities with Hal Higdon to really establish itself as a running and marathon speciality store, differentiating itself from the competition."
   ]
  },
  {
   "cell_type": "markdown",
   "id": "ebc0df33-0d7e-440c-a452-82b944688190",
   "metadata": {
    "tags": []
   },
   "source": [
    "#### Future Works"
   ]
  },
  {
   "cell_type": "markdown",
   "id": "e3332921-44e4-4412-a475-22f949d3d39b",
   "metadata": {},
   "source": [
    "While our recommended model acheived a good accuracy score of 0.802, we given more time and resource to scrap more data, it is possible better train and further improve on the model's peformance.\n",
    "\n",
    "Running Lab may also want to consider reading in more localized data such as from HardwareZone.sg forum as reddit is still a predominantly US based forum.\n",
    "\n",
    "we may also want to dig deeper into the other meaningful words used by the models to derive more insights about what seperates discussions on marathons and normal running."
   ]
  }
 ],
 "metadata": {
  "kernelspec": {
   "display_name": "Python 3 (ipykernel)",
   "language": "python",
   "name": "python3"
  },
  "language_info": {
   "codemirror_mode": {
    "name": "ipython",
    "version": 3
   },
   "file_extension": ".py",
   "mimetype": "text/x-python",
   "name": "python",
   "nbconvert_exporter": "python",
   "pygments_lexer": "ipython3",
   "version": "3.8.13"
  }
 },
 "nbformat": 4,
 "nbformat_minor": 5
}
